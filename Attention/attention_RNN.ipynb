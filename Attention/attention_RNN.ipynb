{
  "metadata": {
    "kernelspec": {
      "display_name": "Python 3",
      "language": "python",
      "name": "python3"
    },
    "language_info": {
      "codemirror_mode": {
        "name": "ipython",
        "version": 3
      },
      "file_extension": ".py",
      "mimetype": "text/x-python",
      "name": "python",
      "nbconvert_exporter": "python",
      "pygments_lexer": "ipython3",
      "version": "3.10.10"
    },
    "colab": {
      "provenance": [],
      "gpuType": "T4"
    },
    "accelerator": "GPU",
    "gpuClass": "standard"
  },
  "nbformat_minor": 0,
  "nbformat": 4,
  "cells": [
    {
      "cell_type": "markdown",
      "source": [
        "#Imports"
      ],
      "metadata": {
        "id": "RFuQOE70w5JO"
      }
    },
    {
      "cell_type": "code",
      "source": [
        "import torch\n",
        "import torch.nn as nn\n",
        "import torch.optim as optim\n",
        "import numpy as np\n",
        "import random\n",
        "import pandas as pd\n",
        "from torch.utils.tensorboard import SummaryWriter  # to print to tensorboard\n",
        "import wandb\n",
        "wandb.login(key='1ee7845713d1303ac1abff70cf959518e1ae311c')\n",
        "wandb.init(project=\"cs6910_RNN\")\n",
        "import torch.nn.functional as F\n",
        "import matplotlib.pyplot as plt\n",
        "import matplotlib.ticker as ticker\n",
        "import csv\n",
        "import heapq\n",
        "device = torch.device(\"cuda\" if torch.cuda.is_available() else \"cpu\")\n",
        "# Visualization tools\n",
        "import matplotlib.pyplot as plt\n",
        "import seaborn as sns\n",
        "sns.set(style=\"ticks\", context=\"talk\")\n",
        "plt.style.use(\"dark_background\")\n",
        "from IPython.display import clear_output"
      ],
      "metadata": {
        "_cell_guid": "b1076dfc-b9ad-4769-8c92-a6c4dae69d19",
        "_uuid": "8f2839f25d086af736a60e9eeb907d3b93b6e0e5",
        "id": "8JmOloduw2Yd",
        "execution": {
          "iopub.status.busy": "2023-05-21T14:46:50.293907Z",
          "iopub.execute_input": "2023-05-21T14:46:50.294253Z",
          "iopub.status.idle": "2023-05-21T14:46:59.921065Z",
          "shell.execute_reply.started": "2023-05-21T14:46:50.294224Z",
          "shell.execute_reply": "2023-05-21T14:46:59.920058Z"
        },
        "trusted": true
      },
      "execution_count": 4,
      "outputs": []
    },
    {
      "cell_type": "markdown",
      "source": [
        "#dataset Loading and preprocessing"
      ],
      "metadata": {
        "id": "W95C5lFBg3BT"
      }
    },
    {
      "cell_type": "code",
      "source": [
        "class Dataset:\n",
        "    def __init__(self,filepath):\n",
        "        self.X=[]\n",
        "        self.Y=[]\n",
        "        self.input_corpus= set()\n",
        "        self.output_corpus= set()\n",
        "        csv_file=open(filepath)\n",
        "        my_csv=csv.reader(csv_file)\n",
        "        for i in my_csv:   \n",
        "            self.X.append(i[0])\n",
        "            self.Y.append(i[1])\n",
        "        self.X = np.array(self.X)\n",
        "        self.Y = np.array(self.Y)\n",
        "\n",
        "    def add_start_end_tokens(self):\n",
        "        for i in range(self.Y.shape[0]):\n",
        "            self.Y[i] = \"\\t\" + self.Y[i] + \"\\n\"\n",
        "        return self.X,self.Y\n",
        "\n",
        "    def get_input_corpus(self):\n",
        "        for word in self.X:\n",
        "            for char in word:\n",
        "                if char not in self.input_corpus:\n",
        "                    self.input_corpus.add(char)\n",
        "\n",
        "        self.input_corpus.add(\" \")\n",
        "        self.input_corpus = sorted(list(self.input_corpus))\n",
        "        return self.input_corpus\n",
        "\n",
        "    def get_output_corpus(self):\n",
        "        for word in self.Y:\n",
        "            for char in word:\n",
        "                if char not in self.output_corpus:\n",
        "                    self.output_corpus.add(char)\n",
        "        self.output_corpus.add(\" \")\n",
        "        self.output_corpus = sorted(list(self.output_corpus))\n",
        "        return self.output_corpus\n",
        "\n",
        "\n",
        "\n"
      ],
      "metadata": {
        "id": "9wllRDtRw2Yf",
        "execution": {
          "iopub.status.busy": "2023-05-21T14:46:59.922954Z",
          "iopub.execute_input": "2023-05-21T14:46:59.923573Z",
          "iopub.status.idle": "2023-05-21T14:46:59.938984Z",
          "shell.execute_reply.started": "2023-05-21T14:46:59.923545Z",
          "shell.execute_reply": "2023-05-21T14:46:59.937932Z"
        },
        "trusted": true
      },
      "execution_count": 5,
      "outputs": []
    },
    {
      "cell_type": "code",
      "source": [
        "train_data=Dataset(\"/kaggle/input/a3data/hin_train.csv\") \n",
        "train_X,train_Y=train_data.add_start_end_tokens()\n",
        "\n",
        "valid_data=Dataset(\"/kaggle/input/a3data/hin_valid.csv\")\n",
        "val_X,val_Y=valid_data.add_start_end_tokens()\n",
        "\n",
        "test_data=Dataset(\"/kaggle/input/a3data/hin_test.csv\")\n",
        "test_X,test_Y=test_data.add_start_end_tokens()\n",
        "\n",
        "\n",
        "print(\"size of the training data\",len(train_X),len(train_Y))\n",
        "print(\"size of the validation data\",len(val_X),len(val_Y))\n",
        "print(\"size of the training data\",len(test_X),len(test_Y))\n",
        "    "
      ],
      "metadata": {
        "id": "d3Aqxw8iw2Yg",
        "execution": {
          "iopub.status.busy": "2023-05-21T14:47:01.071848Z",
          "iopub.execute_input": "2023-05-21T14:47:01.072518Z",
          "iopub.status.idle": "2023-05-21T14:47:01.285488Z",
          "shell.execute_reply.started": "2023-05-21T14:47:01.072482Z",
          "shell.execute_reply": "2023-05-21T14:47:01.284517Z"
        },
        "trusted": true
      },
      "execution_count": 6,
      "outputs": []
    },
    {
      "cell_type": "code",
      "source": [
        "\n",
        "\n",
        "input_corpus = train_data.get_input_corpus()\n",
        "output_corpus = train_data.get_output_corpus()\n",
        "\n",
        "num_encoder_tokens = len(input_corpus)\n",
        "num_decoder_tokens = len(output_corpus)\n",
        "#The lengths represent the count of unique characters in the input(encoder) and output sequences(decoder),\n",
        "#serving as the vocabulary size for each part.\n",
        "print(input_corpus)\n",
        "print(output_corpus)"
      ],
      "metadata": {
        "id": "58ZqIysiw2Yh",
        "execution": {
          "iopub.status.busy": "2023-05-21T14:47:01.568751Z",
          "iopub.execute_input": "2023-05-21T14:47:01.569138Z",
          "iopub.status.idle": "2023-05-21T14:47:01.779738Z",
          "shell.execute_reply.started": "2023-05-21T14:47:01.569106Z",
          "shell.execute_reply": "2023-05-21T14:47:01.778664Z"
        },
        "trusted": true
      },
      "execution_count": 7,
      "outputs": []
    },
    {
      "cell_type": "code",
      "source": [
        "max_encoder_seq_length = max([len(txt) for txt in train_X]) + 2\n",
        "max_decoder_seq_length = max([len(txt) for txt in train_Y])\n"
      ],
      "metadata": {
        "id": "UhCq_8mzw2Yh",
        "execution": {
          "iopub.status.busy": "2023-05-21T14:47:02.075543Z",
          "iopub.execute_input": "2023-05-21T14:47:02.076580Z",
          "iopub.status.idle": "2023-05-21T14:47:02.140050Z",
          "shell.execute_reply.started": "2023-05-21T14:47:02.076536Z",
          "shell.execute_reply": "2023-05-21T14:47:02.139076Z"
        },
        "trusted": true
      },
      "execution_count": 9,
      "outputs": []
    },
    {
      "cell_type": "code",
      "source": [
        "# Create the input character index dictionary\n",
        "input_char_index = {}\n",
        "for i, char in enumerate(input_corpus):\n",
        "    input_char_index[char] = i\n",
        "\n",
        "# Create the output character index dictionary\n",
        "output_char_index = {}\n",
        "for i, char in enumerate(output_corpus):\n",
        "    output_char_index[char] = i"
      ],
      "metadata": {
        "id": "vXcn4ZvKw2Yi",
        "execution": {
          "iopub.status.busy": "2023-05-21T14:47:02.753427Z",
          "iopub.execute_input": "2023-05-21T14:47:02.753801Z",
          "iopub.status.idle": "2023-05-21T14:47:03.544524Z",
          "shell.execute_reply.started": "2023-05-21T14:47:02.753770Z",
          "shell.execute_reply": "2023-05-21T14:47:03.543580Z"
        },
        "trusted": true
      },
      "execution_count": 12,
      "outputs": []
    },
    {
      "cell_type": "code",
      "source": [
        "\n",
        "\n",
        "def populate_data_arrays(data_X, data_Y, input_char_index, output_char_index, max_encoder_seq_length, max_decoder_seq_length):\n",
        "    num_samples = len(data_X)\n",
        "    input_data = np.zeros((max_encoder_seq_length + 1, num_samples), dtype=\"int64\")\n",
        "    target_data = np.zeros((max_decoder_seq_length + 1, num_samples), dtype=\"int64\")\n",
        "    \n",
        "    for i, (x, y) in enumerate(zip(data_X, data_Y)):\n",
        "        for t, char in enumerate(x):\n",
        "            input_data[t, i] = input_char_index[char]\n",
        "        input_data[t + 1:, i] = input_char_index[\" \"]\n",
        "        \n",
        "        for t, char in enumerate(y):\n",
        "            target_data[t, i] = output_char_index[char]\n",
        "        target_data[t + 1:, i] = output_char_index[\" \"]\n",
        "    \n",
        "    return input_data, target_data\n",
        "\n",
        "# Usage:\n",
        "input_data, target_data = populate_data_arrays(train_X, train_Y, input_char_index, output_char_index,\n",
        "                                               max_encoder_seq_length, max_decoder_seq_length)\n",
        "input_data_val, target_data_val = populate_data_arrays(val_X, val_Y, input_char_index, output_char_index,\n",
        "                                                       max_encoder_seq_length, max_decoder_seq_length)\n"
      ],
      "metadata": {
        "id": "pYURUQe6w2Yj",
        "execution": {
          "iopub.status.busy": "2023-05-21T14:47:03.546486Z",
          "iopub.execute_input": "2023-05-21T14:47:03.546873Z",
          "iopub.status.idle": "2023-05-21T14:47:03.593071Z",
          "shell.execute_reply.started": "2023-05-21T14:47:03.546837Z",
          "shell.execute_reply": "2023-05-21T14:47:03.592211Z"
        },
        "trusted": true
      },
      "execution_count": 13,
      "outputs": []
    },
    {
      "cell_type": "code",
      "source": [
        "# convertin numpy arrays to tensors\n",
        "input_data = torch.tensor(input_data,dtype=torch.int64)\n",
        "target_data = torch.tensor(target_data,dtype=torch.int64)\n",
        "input_data_val = torch.tensor(input_data_val,dtype=torch.int64)\n",
        "target_data_val = torch.tensor(target_data_val,dtype=torch.int64)\n",
        "print(input_data.shape,target_data.shape,input_data_val.shape,target_data_val.shape)"
      ],
      "metadata": {
        "id": "0Kek7zv7w2Yj",
        "execution": {
          "iopub.status.busy": "2023-05-21T14:47:03.594456Z",
          "iopub.execute_input": "2023-05-21T14:47:03.594820Z",
          "iopub.status.idle": "2023-05-21T14:47:03.600119Z",
          "shell.execute_reply.started": "2023-05-21T14:47:03.594787Z",
          "shell.execute_reply": "2023-05-21T14:47:03.598893Z"
        },
        "trusted": true
      },
      "execution_count": 14,
      "outputs": []
    },
    {
      "cell_type": "code",
      "source": [
        "# Create the reverse input character index dictionary\n",
        "reverse_input_char_index = {}\n",
        "for char, i in input_char_index.items():\n",
        "    reverse_input_char_index[i] = char\n",
        "\n",
        "# Create the reverse output character index dictionary\n",
        "reverse_target_char_index = {}\n",
        "for char, i in output_char_index.items():\n",
        "    reverse_target_char_index[i] = char"
      ],
      "metadata": {
        "id": "MQWCFXeBhm9E"
      },
      "execution_count": null,
      "outputs": []
    },
    {
      "cell_type": "markdown",
      "source": [
        "#lstm with attention"
      ],
      "metadata": {
        "id": "ttxDGklow_hn"
      }
    },
    {
      "cell_type": "code",
      "source": [
        "#Enoder LSTM Class\n",
        "class EncoderLSTM(nn.Module):\n",
        "    \"\"\"\n",
        "    A LSTM encoder for sequence-to-sequence learning.\n",
        "    Args:\n",
        "        inp_vocab_size (int): The size of the input vocabulary.\n",
        "        embedding_size (int): The size of the embedding layer.\n",
        "        hidden_size (int): The size of the hidden state.\n",
        "        num_layers (int): The number of GRU layers.\n",
        "        p (float): The dropout rate.\n",
        "\n",
        "    \"\"\"\n",
        "    def __init__(self, inp_vocab_size, embedding_size, hidden_size, num_layers, d):\n",
        "        super(EncoderLSTM, self).__init__()\n",
        "        # Store the input parameters        \n",
        "        self.num_layers = num_layers\n",
        "        self.dropout = nn.Dropout(d)\n",
        "        self.inp_vocab_size = inp_vocab_size\n",
        "        self.embedding_size = embedding_size\n",
        "        self.hidden_size = hidden_size\n",
        "\n",
        "        # Define the embedding layer\n",
        "        self.cell_type=\"LSTM\"\n",
        "        self.embedding = nn.Embedding(inp_vocab_size, embedding_size)\n",
        "\n",
        "        # Define the LSTM layer\n",
        "        self.rnn = nn.LSTM(embedding_size, hidden_size, num_layers, dropout=d)\n",
        "\n",
        "    def forward(self, inpx):\n",
        "        \"\"\"\n",
        "        Encodes a sequence of input tokens.\n",
        "\n",
        "        Args:\n",
        "        x (torch.Tensor): A tensor of shape (seq_length, batch_size).\n",
        "\n",
        "        Returns:\n",
        "        torch.Tensor: The hidden state of the GRU, of shape (num_layers, batch_size, hidden_size).\n",
        "\n",
        "        \"\"\"\n",
        "        # Apply dropout to the input\n",
        "        embedded_inp=self.embedding(inpx)\n",
        "        embedded_inp_drop = self.dropout(embedded_inp)\n",
        "\n",
        "        # Pass the embedded input through the LSTM layer\n",
        "        outputs, (hiddenstate, cellstate) = self.rnn(embedded_inp_drop)\n",
        "\n",
        "        return outputs,hiddenstate, cellstate\n",
        "\n",
        "\n",
        "\n",
        "#Deoder LSTM class\n",
        "class DecoderLSTM(nn.Module):\n",
        "    def __init__(\n",
        "        self, input_size, embedding_size, hidden_size, output_size, num_layers, p,max_length=max_encoder_seq_length):\n",
        "        super(DecoderLSTM, self).__init__()\n",
        "        self.dropout = nn.Dropout(p)\n",
        "        self.hidden_size = hidden_size\n",
        "        self.num_layers = num_layers\n",
        "        self.max_length=max_length\n",
        "        self.output_size=output_size\n",
        "\n",
        "        self.embedding = nn.Embedding(input_size, embedding_size)\n",
        "        self.attn = nn.Linear(self.hidden_size +embedding_size, self.max_length)\n",
        "        self.attn_combine = nn.Linear(self.hidden_size +embedding_size, self.hidden_size)\n",
        " \n",
        "        self.rnn = nn.LSTM(self.hidden_size, self.hidden_size)\n",
        "    \n",
        "        self.out = nn.Linear(self.hidden_size, self.output_size)\n",
        "\n",
        "    def forward(self, input, hidden,cell,encoder_outputs):\n",
        "        #embedded = self.embedding(input).view(1, 1, -1)\n",
        "        \n",
        "        input=input.unsqueeze(1).transpose(0,1)\n",
        "        embedded=self.embedding(input)\n",
        "        attn_weights = F.softmax(self.attn(torch.cat((embedded[0], hidden[0]), 1)), dim=1)\n",
        "        attn_applied = torch.bmm(attn_weights.unsqueeze(1),encoder_outputs.permute(1,0,2))\n",
        "        output = torch.cat((embedded[0], attn_applied.squeeze(1)), 1)\n",
        "        output = self.attn_combine(output).unsqueeze(0)\n",
        "        output = F.relu(output)\n",
        "        \n",
        "    \n",
        "        #output, hidden = self.rnn(output, hidden)\n",
        "        \n",
        "        outputs, (hidden, cell) = self.rnn(output, (hidden, cell))\n",
        "        \n",
        "        output=self.out(output.squeeze(0))\n",
        "        return output, hidden, cell,attn_weights\n",
        "\n",
        "\n",
        "\n",
        "class Seq2SeqLSTM(nn.Module):\n",
        "    \"\"\"\n",
        "    A sequence-to-sequence model with a GRU encoder and decoder.\n",
        "    Args:\n",
        "        encoder (EncoderGRU): The encoder.\n",
        "        decoder (DecoderGRU): The decoder.\n",
        "    \"\"\"\n",
        "    def __init__(self, encoder, decoder):\n",
        "        super(Seq2SeqLSTM, self).__init__()\n",
        "\n",
        "        # Store the encoder and decoder modules\n",
        "        self.encoder = encoder\n",
        "        self.decoder = decoder\n",
        "        \n",
        "\n",
        "    def forward(self, source, target, teacher_force_ratio=0.2):\n",
        "        \"\"\"\n",
        "        Performs forward propagation on the model.\n",
        "\n",
        "        Args:\n",
        "            source (torch.Tensor): A tensor of shape (seq_length, batch_size).\n",
        "            target (torch.Tensor): A tensor of shape (target_len, batch_size).\n",
        "            teacher_force_ratio (float): The probability of using teacher forcing.\n",
        "\n",
        "        Returns:\n",
        "            torch.Tensor: A tensor of shape (target_len, batch_size, output_size).\n",
        "\n",
        "        \"\"\"\n",
        "        batch_size = source.shape[1]\n",
        "        target_len = target.shape[0]\n",
        "        target_vocab_size = num_decoder_tokens\n",
        "\n",
        "        # Initialize the outputs tensor\n",
        "        outputs = torch.zeros(target_len, batch_size, target_vocab_size).to(device)\n",
        "\n",
        "        # Encode the source sequence\n",
        "        hidden_state, cell_state = self.encoder(source)\n",
        "\n",
        "        # Initialize the input to the decoder with the start token\n",
        "        input_token = target[0]\n",
        "\n",
        "        # Initialize the counter variable\n",
        "        t = 1\n",
        "\n",
        "        # Iterate over the target sequence length\n",
        "        while t < target_len:\n",
        "            # Pass the input, hidden state, and cell state through the decoder\n",
        "            decoder_output, hidden_state, cell_state,attn_weights = self.decoder(input_token, hidden_state, cell_state)\n",
        "\n",
        "            # Store the decoder output in the outputs tensor\n",
        "            outputs[t] = decoder_output\n",
        "\n",
        "            # Determine the next input to the decoder using teacher forcing\n",
        "            if random.random() < teacher_force_ratio:\n",
        "                input_token = target[t]\n",
        "            else:\n",
        "                input_token = decoder_output.argmax(1)\n",
        "\n",
        "            # Increment the counter\n",
        "            t += 1\n",
        "\n",
        "        return outputs\n",
        "\n"
      ],
      "metadata": {
        "id": "1BfO_0E7w2Yj",
        "execution": {
          "iopub.status.busy": "2023-05-21T14:47:03.684599Z",
          "iopub.execute_input": "2023-05-21T14:47:03.684881Z",
          "iopub.status.idle": "2023-05-21T14:47:03.703563Z",
          "shell.execute_reply.started": "2023-05-21T14:47:03.684850Z",
          "shell.execute_reply": "2023-05-21T14:47:03.702529Z"
        },
        "trusted": true
      },
      "execution_count": 15,
      "outputs": []
    },
    {
      "cell_type": "markdown",
      "source": [
        "#GRU with attention"
      ],
      "metadata": {
        "id": "82QKthRxxDHd"
      }
    },
    {
      "cell_type": "code",
      "source": [
        "# EncoderGRU class\n",
        "class EncoderGRU(nn.Module):\n",
        "    \"\"\"\n",
        "    A GRU encoder for sequence-to-sequence learning.\n",
        "\n",
        "    Args:\n",
        "        inp_vocab_size (int): The size of the input vocabulary.\n",
        "        embedding_size (int): The size of the embedding layer.\n",
        "        hidden_size (int): The size of the hidden state.\n",
        "        num_layers (int): The number of GRU layers.\n",
        "        p (float): The dropout rate.\n",
        "\n",
        "    \"\"\"\n",
        "\n",
        "    def __init__(self, inp_vocab_size, embedding_size, hidden_size, num_layers, p=0.3):\n",
        "        super(EncoderGRU, self).__init__()\n",
        "\n",
        "        # Dropout layer.\n",
        "        self.dropout = nn.Dropout(p)\n",
        "\n",
        "        # Embedding layer.\n",
        "        self.embedding = nn.Embedding(inp_vocab_size, embedding_size)\n",
        "\n",
        "        # GRU layer.\n",
        "        self.rnn = nn.GRU(embedding_size, hidden_size, num_layers, dropout=p)\n",
        "\n",
        "    def forward(self, inpx):\n",
        "        \"\"\"\n",
        "        Encodes a sequence of input tokens.\n",
        "\n",
        "        Args:\n",
        "            x (torch.Tensor): A tensor of shape (seq_length, batch_size).\n",
        "\n",
        "        Returns:\n",
        "            torch.Tensor: The hidden state of the GRU, of shape (num_layers, batch_size, hidden_size).\n",
        "\n",
        "        \"\"\"\n",
        "\n",
        "        # Embedding layer.\n",
        "        embedded_inpx=self.embedding(inpx)\n",
        "        embedded_inpx_drop = self.dropout(embedded_inpx)\n",
        "\n",
        "        # GRU layer.\n",
        "        outputs, hidden = self.rnn(embedded_inpx_drop)\n",
        "\n",
        "        return outputs,hidden\n",
        "\n",
        "\n",
        "# DecoderGRU class\n",
        "class DecoderGRU(nn.Module):\n",
        "    \"\"\"\n",
        "    A GRU decoder for sequence-to-sequence learning.\n",
        "\n",
        "    Args:\n",
        "        inp_vocab_size (int): The size of the input vocabulary.\n",
        "        embedding_size (int): The size of the embedding layer.\n",
        "        hidden_size (int): The size of the hidden state.\n",
        "        output_size (int): The size of the output vocabulary.\n",
        "        num_layers (int): The number of GRU layers.\n",
        "        p (float): The dropout rate.\n",
        "\n",
        "    \"\"\"\n",
        "\n",
        "    def __init__(\n",
        "        self, input_size, embedding_size, hidden_size, output_size, num_layers, p,max_length=max_encoder_seq_length):\n",
        "        super(DecoderGRU, self).__init__()\n",
        "        self.dropout = nn.Dropout(p)\n",
        "        self.hidden_size = hidden_size\n",
        "        self.num_layers = num_layers\n",
        "        self.max_length=max_length\n",
        "        self.output_size=output_size\n",
        "\n",
        "        self.embedding = nn.Embedding(input_size, embedding_size)\n",
        "        self.attn = nn.Linear(self.hidden_size +embedding_size, self.max_length)\n",
        "        self.attn_combine = nn.Linear(self.hidden_size +embedding_size, self.hidden_size)\n",
        " \n",
        "        self.rnn = nn.GRU(self.hidden_size, self.hidden_size)\n",
        "    \n",
        "        self.out = nn.Linear(self.hidden_size, self.output_size)\n",
        "\n",
        "    def forward(self, input, hidden,encoder_outputs):\n",
        "        #embedded = self.embedding(input).view(1, 1, -1)\n",
        "        input=input.unsqueeze(1).transpose(0,1)\n",
        "        embedded=self.embedding(input)\n",
        "        attn_weights = F.softmax(self.attn(torch.cat((embedded[0], hidden[0]), 1)), dim=1)\n",
        "        attn_applied = torch.bmm(attn_weights.unsqueeze(1),encoder_outputs.permute(1,0,2))\n",
        "        output = torch.cat((embedded[0], attn_applied.squeeze(1)), 1)\n",
        "        output = self.attn_combine(output).unsqueeze(0)\n",
        "        output = F.relu(output)\n",
        "        \n",
        "    \n",
        "        output, hidden = self.rnn(output, hidden)\n",
        "        output=self.out(output.squeeze(0))\n",
        "        return output, hidden, attn_weights\n",
        "\n",
        "\n",
        "# Seq2SeqGRU class\n",
        "class Seq2SeqGRU(nn.Module):\n",
        "    \"\"\"\n",
        "    A sequence-to-sequence model with a GRU encoder and decoder.\n",
        "\n",
        "    Args:\n",
        "        encoder (EncoderGRU): The encoder.\n",
        "        decoder (DecoderGRU): The decoder.\n",
        "\n",
        "    \"\"\"\n",
        "\n",
        "    def __init__(self, encoder, decoder):\n",
        "        super(Seq2SeqGRU, self).__init__()\n",
        "\n",
        "        self.encoder = encoder\n",
        "        self.decoder = decoder\n",
        "\n",
        "    def forward(self, source, target, teacher_force_ratio=0.3):\n",
        "        \"\"\"\n",
        "        Performs forward propagation on the model.\n",
        "\n",
        "        Args:\n",
        "            source (torch.Tensor): A tensor of shape (seq_length, batch_size).\n",
        "            target (torch.Tensor): A tensor of shape (target_len, batch_size).\n",
        "            teacher_force_ratio (float): The probability of using teacher forcing.\n",
        "\n",
        "        Returns:\n",
        "            torch.Tensor: A tensor of shape (target_len, batch_size, output_size).\n",
        "\n",
        "        \"\"\"\n",
        "        # Encode the source sequence.\n",
        "        hidden = self.encoder(source)\n",
        "        # Initialize the decoder hidden state.\n",
        "        decoder_hidden = hidden\n",
        "\n",
        "\n",
        "        # Initialize the output predictions.\n",
        "        predictions = torch.zeros(target.shape[0], source.shape[1],num_decoder_tokens ).to(device)\n",
        "\n",
        "        # Initialize the counter variable.\n",
        "        t = 0\n",
        "\n",
        "        x=target[0]\n",
        "        # Loop over the target sequence.\n",
        "        while t < target.shape[0]:\n",
        "\n",
        "            # Decode the next output token.\n",
        "            output, decoder_hidden,attn_weights = self.decoder(x, decoder_hidden)\n",
        "\n",
        "            # Store the output prediction.\n",
        "            predictions[t] = output\n",
        "\n",
        "            # Get the next input to the decoder.\n",
        "            x = target[t] if random.random() < teacher_force_ratio else predictions[t].argmax(1)\n",
        "\n",
        "            # Increment the counter.\n",
        "            t += 1\n",
        "\n",
        "        return predictions"
      ],
      "metadata": {
        "id": "9hyVuXv2w2Yj",
        "execution": {
          "iopub.status.busy": "2023-05-21T14:47:04.351812Z",
          "iopub.execute_input": "2023-05-21T14:47:04.352212Z",
          "iopub.status.idle": "2023-05-21T14:47:04.377129Z",
          "shell.execute_reply.started": "2023-05-21T14:47:04.352180Z",
          "shell.execute_reply": "2023-05-21T14:47:04.375975Z"
        },
        "trusted": true
      },
      "execution_count": 16,
      "outputs": []
    },
    {
      "cell_type": "markdown",
      "source": [
        "#RNN with attention"
      ],
      "metadata": {
        "id": "tnfRBCG4xGZx"
      }
    },
    {
      "cell_type": "code",
      "source": [
        "# EncoderGRU class\n",
        "class EncoderRNN(nn.Module):\n",
        "    \"\"\"\n",
        "    A RNN encoder for sequence-to-sequence learning.\n",
        "\n",
        "    Args:\n",
        "        inp_vocab_size (int): The size of the input vocabulary.\n",
        "        embedding_size (int): The size of the embedding layer.\n",
        "        hidden_size (int): The size of the hidden state.\n",
        "        num_layers (int): The number of RNN layers.\n",
        "        p (float): The dropout rate.\n",
        "\n",
        "    \"\"\"\n",
        "\n",
        "    def __init__(self, inp_vocab_size, embedding_size, hidden_size, num_layers, p=0.3):\n",
        "        super(EncoderRNN, self).__init__()\n",
        "\n",
        "        # Dropout layer.\n",
        "        self.dropout = nn.Dropout(p)\n",
        "\n",
        "        # Embedding layer.\n",
        "        self.embedding = nn.Embedding(inp_vocab_size, embedding_size)\n",
        "\n",
        "        # GRU layer.\n",
        "        self.rnn = nn.RNN(embedding_size, hidden_size, num_layers, dropout=p)\n",
        "\n",
        "    def forward(self, inpx):\n",
        "        \"\"\"\n",
        "        Encodes a sequence of input tokens.\n",
        "\n",
        "        Args:\n",
        "            x (torch.Tensor): A tensor of shape (seq_length, batch_size).\n",
        "\n",
        "        Returns:\n",
        "            torch.Tensor: The hidden state of the RNN, of shape (num_layers, batch_size, hidden_size).\n",
        "\n",
        "        \"\"\"\n",
        "\n",
        "        # Embedding layer.\n",
        "        embedded_inpx=self.embedding(inpx)\n",
        "        embedded_inpx_drop = self.dropout(embedded_inpx)\n",
        "\n",
        "        # GRU layer.\n",
        "        outputs, hidden = self.rnn(embedded_inpx_drop)\n",
        "\n",
        "        return outputs,hidden\n",
        "\n",
        "\n",
        "# DecoderRNN class\n",
        "class DecoderRNN(nn.Module):\n",
        "    \"\"\"\n",
        "    A GRU decoder for sequence-to-sequence learning.\n",
        "\n",
        "    Args:\n",
        "        inp_vocab_size (int): The size of the input vocabulary.\n",
        "        embedding_size (int): The size of the embedding layer.\n",
        "        hidden_size (int): The size of the hidden state.\n",
        "        output_size (int): The size of the output vocabulary.\n",
        "        num_layers (int): The number of GRU layers.\n",
        "        p (float): The dropout rate.\n",
        "\n",
        "    \"\"\"\n",
        "\n",
        "    def __init__(\n",
        "        self, input_size, embedding_size, hidden_size, output_size, num_layers, p,max_length=max_encoder_seq_length):\n",
        "        super(DecoderRNN, self).__init__()\n",
        "        self.dropout = nn.Dropout(p)\n",
        "        self.hidden_size = hidden_size\n",
        "        self.num_layers = num_layers\n",
        "        self.max_length=max_length\n",
        "        self.output_size=output_size\n",
        "\n",
        "        self.embedding = nn.Embedding(input_size, embedding_size)\n",
        "        self.attn = nn.Linear(self.hidden_size +embedding_size, self.max_length)\n",
        "        self.attn_combine = nn.Linear(self.hidden_size +embedding_size, self.hidden_size)\n",
        " \n",
        "        self.rnn = nn.RNN(self.hidden_size, self.hidden_size)\n",
        "    \n",
        "        self.out = nn.Linear(self.hidden_size, self.output_size)\n",
        "\n",
        "    def forward(self, input, hidden,encoder_outputs):\n",
        "        #embedded = self.embedding(input).view(1, 1, -1)\n",
        "        input=input.unsqueeze(1).transpose(0,1)\n",
        "        embedded=self.embedding(input)\n",
        "        attn_weights = F.softmax(self.attn(torch.cat((embedded[0], hidden[0]), 1)), dim=1)\n",
        "        attn_applied = torch.bmm(attn_weights.unsqueeze(1),encoder_outputs.permute(1,0,2))\n",
        "        output = torch.cat((embedded[0], attn_applied.squeeze(1)), 1)\n",
        "        output = self.attn_combine(output).unsqueeze(0)\n",
        "        output = F.relu(output)\n",
        "        #print(output.shape,hidden.shape)\n",
        "        output, hidden = self.rnn(output, hidden)\n",
        "        output=self.out(output.squeeze(0))\n",
        "        return output, hidden, attn_weights\n",
        "\n",
        "\n",
        "# Seq2SeqRNN class\n",
        "class Seq2SeqRNN(nn.Module):\n",
        "    \"\"\"\n",
        "    A sequence-to-sequence model with a RNN encoder and decoder.\n",
        "\n",
        "    Args:\n",
        "        encoder (EncoderGRU): The encoder.\n",
        "        decoder (DecoderGRU): The decoder.\n",
        "\n",
        "    \"\"\"\n",
        "\n",
        "    def __init__(self, encoder, decoder):\n",
        "        super(Seq2SeqRNN, self).__init__()\n",
        "\n",
        "        self.encoder = encoder\n",
        "        self.decoder = decoder\n",
        "\n",
        "    def forward(self, source, target, teacher_force_ratio=0.3):\n",
        "        \"\"\"\n",
        "        Performs forward propagation on the model.\n",
        "\n",
        "        Args:\n",
        "            source (torch.Tensor): A tensor of shape (seq_length, batch_size).\n",
        "            target (torch.Tensor): A tensor of shape (target_len, batch_size).\n",
        "            teacher_force_ratio (float): The probability of using teacher forcing.\n",
        "\n",
        "        Returns:\n",
        "            torch.Tensor: A tensor of shape (target_len, batch_size, output_size).\n",
        "\n",
        "        \"\"\"\n",
        "        # Encode the source sequence.\n",
        "        hidden = self.encoder(source)\n",
        "        # Initialize the decoder hidden state.\n",
        "        decoder_hidden = hidden\n",
        "\n",
        "\n",
        "        # Initialize the output predictions.\n",
        "        predictions = torch.zeros(target.shape[0], source.shape[1],num_decoder_tokens ).to(device)\n",
        "\n",
        "        # Initialize the counter variable.\n",
        "        t = 0\n",
        "\n",
        "        x=target[0]\n",
        "        # Loop over the target sequence.\n",
        "        while t < target.shape[0]:\n",
        "\n",
        "            # Decode the next output token.\n",
        "            output, decoder_hidden,attn_weights = self.decoder(x, decoder_hidden)\n",
        "\n",
        "            # Store the output prediction.\n",
        "            predictions[t] = output\n",
        "\n",
        "            # Get the next input to the decoder.\n",
        "            x = target[t] if random.random() < teacher_force_ratio else predictions[t].argmax(1)\n",
        "\n",
        "            # Increment the counter.\n",
        "            t += 1\n",
        "\n",
        "        return predictions"
      ],
      "metadata": {
        "id": "S1gjBggLw2Yj",
        "execution": {
          "iopub.status.busy": "2023-05-21T14:47:05.196087Z",
          "iopub.execute_input": "2023-05-21T14:47:05.196581Z",
          "iopub.status.idle": "2023-05-21T14:47:05.215728Z",
          "shell.execute_reply.started": "2023-05-21T14:47:05.196547Z",
          "shell.execute_reply": "2023-05-21T14:47:05.214753Z"
        },
        "trusted": true
      },
      "execution_count": 17,
      "outputs": []
    },
    {
      "cell_type": "markdown",
      "source": [
        "#BeamSearchGR"
      ],
      "metadata": {
        "id": "mejbU4wlxMtb"
      }
    },
    {
      "cell_type": "code",
      "source": [
        "def initialiser(len):\n",
        "    return np.zeros((len,1),dtype=\"int64\")"
      ],
      "metadata": {
        "id": "EOvatqOznbtx"
      },
      "execution_count": null,
      "outputs": []
    },
    {
      "cell_type": "code",
      "source": [
        "def beam_searchLSTM(model, word, input_char_idx, output_char_idx, reverse_input_char_idx,\n",
        "                reverse_target_char_idx, max_encoder_seq_len, max_decoder_seq_len,\n",
        "                encoder_tok_numbers, decoder_tok_numbers, beam_width, device, length_penalty=0.6):\n",
        "\n",
        "    # Initialize the output word\n",
        "    word_t = ''\n",
        "\n",
        "    # Encode the input word\n",
        "    data = initialiser(max_encoder_seq_len)\n",
        "    t = 0\n",
        "    \n",
        "    while t < len(word):\n",
        "        char = word[t]\n",
        "        data[t, 0] = input_char_idx[char]\n",
        "        t += 1\n",
        "\n",
        "        \n",
        "    data[t :, 0] = input_char_idx[\" \"]\n",
        "    \n",
        "    \n",
        "    mydata_type=torch.int64\n",
        "    data = torch.tensor(data, dtype=mydata_type).to(device)\n",
        "\n",
        "    \n",
        "    with torch.no_grad():\n",
        "        hidden, cell = model.encoder(data)\n",
        "\n",
        "    # Initialize beam\n",
        "    mychar=output_char_idx['\\t']\n",
        "    initial_sequence = torch.tensor(np.array(mychar).reshape(1,)).to(device)\n",
        "    initial_hidden=hidden.unsqueeze(0)\n",
        "    beam = [(0.0, initial_sequence,initial_hidden )]  # [(score, sequence, hidden)]\n",
        "\n",
        "    \n",
        "    time_step = 0\n",
        "    while time_step < max_decoder_seq_len:\n",
        "        candidates = []\n",
        "        idx = 0\n",
        "        while idx < len(beam):\n",
        "            score, seq, hidden = beam[idx]\n",
        "            last_token = seq[-1].item()\n",
        "            if last_token == output_char_idx['\\n']:\n",
        "                # If the sequence ends with the end token, add it to the candidates\n",
        "                candidates.append((score, seq, hidden))\n",
        "                idx += 1\n",
        "                continue\n",
        "\n",
        "            x = torch.tensor(np.array(last_token).reshape(1,)).to(device)\n",
        "            var=hidden.squeeze(0)\n",
        "            output, hidden, cell,attnweights = model.decoder(x, var , cell)\n",
        "            probabilities = F.softmax(output, dim=1)\n",
        "\n",
        "            # Get the top-k probabilities and tokens\n",
        "            topk_probs, topk_tokens = torch.topk(probabilities, k=beam_width)\n",
        "\n",
        "            j = 0\n",
        "            while j < len(topk_probs[0]):\n",
        "                prob, token = topk_probs[0][j], topk_tokens[0][j]\n",
        "                \n",
        "                var2=token.unsqueeze(0)\n",
        "                new_seq = torch.cat((seq,var2 ), dim=0)\n",
        "                \n",
        "                new_hidden = hidden.clone().unsqueeze(0)\n",
        "                \n",
        "                length_penalty_factor = ((len(new_seq) - 1) / 5) ** length_penalty  # Adjust penalty factor as needed\n",
        "                myitem=torch.log(prob).item()\n",
        "                candidates.append((score + myitem / length_penalty_factor, new_seq, new_hidden))\n",
        "                j += 1\n",
        "\n",
        "            idx += 1\n",
        "\n",
        "        # Select top-k candidates based on the accumulated scores\n",
        "        #beam = heapq.nlargest(beam_width, candidates, key=lambda x: x[0])\n",
        "        def get_score(item):\n",
        "            return item[0]\n",
        "\n",
        "        # Use heapq.nlargest to retrieve the top candidates based on score\n",
        "        beam = heapq.nlargest(beam_width, candidates, key=get_score)\n",
        "\n",
        "        time_step += 1\n",
        "\n",
        "    # Select the best sequence from the beam as the output\n",
        "    #best_score, best_sequence, tempvar = max(beam, key=lambda x: x[0])\n",
        "    \n",
        "    best_score = float('-inf')\n",
        "    best_sequence = None\n",
        "    tempvar = None\n",
        "    for item in beam:\n",
        "        score = item[0]\n",
        "        sequence = item[1]\n",
        "        if score > best_score:\n",
        "            best_score = score\n",
        "            best_sequence = sequence\n",
        "            tempvar = item[2]\n",
        "    \n",
        "    \n",
        "    translated_word = ''\n",
        "    for token in best_sequence[1:-1]:\n",
        "        translated_word += reverse_target_char_idx[token.item()]\n",
        "\n",
        "    return translated_word\n"
      ],
      "metadata": {
        "id": "_N3sXZJfnfRo"
      },
      "execution_count": null,
      "outputs": []
    },
    {
      "cell_type": "code",
      "source": [
        "def beam_searchGRU_RNN(model, input_word, input_char_dict, output_char_dict, reverse_input_char_dict,\n",
        "                  reverse_output_char_dict, max_encoder_length, max_decoder_length,\n",
        "                  encoder_tok_numbers, decoder_tok_numbers, beam_width, device, length_penalty=0.6):\n",
        "\n",
        "    decoded_word = ''\n",
        "\n",
        "    # Encode the input word\n",
        "    encoder_input = initialiser(max_encoder_length)\n",
        "\n",
        "    t = 0\n",
        "    while t < len(input_word):\n",
        "        encoder_input[t, 0] = input_char_dict[input_word[t]]\n",
        "        t += 1\n",
        "\n",
        "    encoder_input[t:, 0] = input_char_dict[\" \"]\n",
        "    \n",
        "    mydata_type=torch.int64\n",
        "    encoder_input = torch.tensor(encoder_input, dtype=mydata_type).to(device)\n",
        "\n",
        "    with torch.no_grad():\n",
        "        hidden = model.encoder(encoder_input)\n",
        "\n",
        "    # Initialize beam\n",
        "    mychar=output_char_dict['\\t']\n",
        "    initial_sequence = torch.tensor(np.array(mychar).reshape(1,)).to(device)\n",
        "    beam = [(0.0, initial_sequence, hidden.unsqueeze(0))]  # [(score, sequence, hidden)]\n",
        "\n",
        "    time_step = 0\n",
        "    while time_step < max_decoder_length:\n",
        "        candidates = []\n",
        "        for score, seq, hidden in beam:\n",
        "            last_token = seq[-1].item()\n",
        "            if last_token == output_char_dict['\\n']:\n",
        "                # If the sequence ends with the end token, add it to the candidates\n",
        "                candidates.append((score, seq, hidden))\n",
        "                continue\n",
        "\n",
        "            x = torch.tensor(np.array(last_token).reshape(1,)).to(device)\n",
        "            initial_hidden=hidden.squeeze(0)\n",
        "            output, hidden,attn_weights = model.decoder(x, initial_hidden)\n",
        "            probabilities = F.softmax(output, dim=1)\n",
        "\n",
        "            # Get the top-k probabilities and tokens\n",
        "            topk_probs, topk_tokens = torch.topk(probabilities, k=beam_width)\n",
        "\n",
        "            for prob, token in zip(topk_probs[0], topk_tokens[0]):\n",
        "                unsqueeze_token=token.unsqueeze(0)\n",
        "                new_seq = torch.cat((  seq, unsqueeze_token   ), dim=0)\n",
        "                new_hidden = hidden.clone().unsqueeze(0)\n",
        "                length_penalty_factor = ((len(new_seq) - 1) / 5) ** length_penalty  # Adjust penalty factor as needed\n",
        "                myitem=torch.log(prob).item()\n",
        "                candidates.append((score + myitem / length_penalty_factor, new_seq, new_hidden))\n",
        "\n",
        "        # Select top-k candidates based on the accumulated scores\n",
        "        #beam = heapq.nlargest(beam_width, candidates, key=lambda x: x[0])\n",
        "        # Define a custom comparison key function\n",
        "        def get_score(item):\n",
        "            return item[0]\n",
        "\n",
        "        # Use heapq.nlargest to retrieve the top candidates based on score\n",
        "        beam = heapq.nlargest(beam_width, candidates, key=get_score)\n",
        "\n",
        "        time_step += 1\n",
        "\n",
        "    # Select the best sequence from the beam as the output\n",
        "    #best_score, best_sequence, tempvar = max(beam, key=lambda x: x[0])\n",
        "    \n",
        "    best_score = float('-inf')\n",
        "    best_sequence = None\n",
        "    tempvar = None\n",
        "    for item in beam:\n",
        "        score = item[0]\n",
        "        sequence = item[1]\n",
        "        if score > best_score:\n",
        "            best_score = score\n",
        "            best_sequence = sequence\n",
        "            tempvar = item[2]\n",
        "    \n",
        "    translated_word = ''\n",
        "    \n",
        "    for token in best_sequence[1:-1]:\n",
        "        translated_word += reverse_output_char_dict[token.item()]\n",
        "\n",
        "    return translated_word\n"
      ],
      "metadata": {
        "id": "Gd923EsRw2Yk",
        "execution": {
          "iopub.status.busy": "2023-05-21T14:47:06.099858Z",
          "iopub.execute_input": "2023-05-21T14:47:06.100641Z",
          "iopub.status.idle": "2023-05-21T14:47:06.115166Z",
          "shell.execute_reply.started": "2023-05-21T14:47:06.100586Z",
          "shell.execute_reply": "2023-05-21T14:47:06.114080Z"
        },
        "trusted": true
      },
      "execution_count": 19,
      "outputs": []
    },
    {
      "cell_type": "markdown",
      "source": [
        "#Setting up some initial parameters"
      ],
      "metadata": {
        "id": "qcWm9_dWn64s"
      }
    },
    {
      "cell_type": "code",
      "source": [
        "num_epochs = 2\n",
        "learning_rate = 0.001\n",
        "encoder_embedding_size = 256\n",
        "input_size_decoder = num_decoder_tokens\n",
        "batch_size = 32\n",
        "load_model = False\n",
        "num_enc_layers = 2\n",
        "input_size_encoder = num_encoder_tokens\n",
        "num_epochs = 2\n",
        "learning_rate = 0.001\n",
        "input_size_decoder = num_decoder_tokens\n",
        "batch_size = 32\n",
        "output_size = num_decoder_tokens\n",
        "\n",
        "decoder_embedding_size = 256\n",
        "hidden_size = 256  # Needs to be the same for both RNN's\n",
        "\n",
        "num_dec_layers = 2\n",
        "dropout=0.1\n",
        "training = False"
      ],
      "metadata": {
        "id": "vJ5IMclKw2Yk",
        "execution": {
          "iopub.status.busy": "2023-05-21T14:47:06.796427Z",
          "iopub.execute_input": "2023-05-21T14:47:06.796793Z",
          "iopub.status.idle": "2023-05-21T14:47:06.804687Z",
          "shell.execute_reply.started": "2023-05-21T14:47:06.796761Z",
          "shell.execute_reply": "2023-05-21T14:47:06.803754Z"
        },
        "trusted": true
      },
      "execution_count": 27,
      "outputs": []
    },
    {
      "cell_type": "markdown",
      "source": [
        "#Training"
      ],
      "metadata": {
        "id": "8m-hou8oxYCt"
      }
    },
    {
      "cell_type": "code",
      "source": [
        "def training_function(num_encoder_tokens,input_embedding_size, dp, cell_type, hidden_size, num_enc_layers, num_dec_layers,num_epochs,       output_size,    input_size_decoder,     batch_size,beam_width):\n",
        "    if(cell_type==\"LSTM\"):\n",
        "        print(\"hello1\")\n",
        "        encoder_net = EncoderLSTM(input_size_encoder,input_embedding_size, hidden_size, num_enc_layers,dp).to(device)\n",
        "        print(\"hello2\")\n",
        "        decoder_net = DecoderLSTM(input_size_decoder,input_embedding_size,hidden_size,output_size,num_dec_layers,dp).to(device)\n",
        "        print(\"hello3\")\n",
        "        model = Seq2SeqLSTM(encoder_net, decoder_net).to(device)\n",
        "        print(\"hello\")\n",
        "        optimizer = optim.Adam(model.parameters(), lr=learning_rate)\n",
        "        criterion = nn.CrossEntropyLoss()\n",
        "        \n",
        "        train_ds_x = torch.split(input_data,batch_size,dim=1)\n",
        "        train_ds_y = torch.split(target_data,batch_size,dim=1)\n",
        "        #print(train_ds_x)\n",
        "        \n",
        "        for epoch in range(num_epochs):\n",
        "            print(f\"[Epoch {epoch} / {num_epochs}]\")\n",
        "            #wandb.log({'epochs' : epoch})##############################\n",
        "            \n",
        "            total_loss=0#############################\n",
        "\n",
        "            model.eval()\n",
        "            model.train()\n",
        "\n",
        "            for i, (x,y) in enumerate(zip(train_ds_x,train_ds_y)):\n",
        "        # Get input and targets and get to cuda\n",
        "                inp_data = x.to(device)\n",
        "                target = y.to(device)\n",
        "\n",
        "            # Forward prop\n",
        "                output = model(inp_data, target)\n",
        "\n",
        "\n",
        "                output = output[1:].reshape(-1, output.shape[2])\n",
        "                target = target[1:].reshape(-1)\n",
        "\n",
        "                optimizer.zero_grad()\n",
        "                loss = criterion(output, target)\n",
        "                total_loss += loss#########################\n",
        "                \n",
        "\n",
        "            # Back prop\n",
        "                loss.backward()\n",
        "\n",
        "            # Clip to avoid exploding gradient issues, makes sure grads are\n",
        "            # within a healthy range\n",
        "                torch.nn.utils.clip_grad_norm_(model.parameters(), max_norm=1)\n",
        "\n",
        "            # Gradient descent step\n",
        "                optimizer.step()\n",
        "                \n",
        "            ###################################################################################################################\n",
        "#             total_words = len(train_X)\n",
        "#             correct_pred = 0\n",
        "#             model.eval()\n",
        "#             for i in range(total_words):\n",
        "#        # print(val_Y[i][1:-1])\n",
        "#               #  decoded_sentence = translate(model,train_X[i], input_char_index, output_char_index, reverse_input_char_index, \n",
        "#                #           reverse_target_char_index, max_encoder_seq_length, max_decoder_seq_length, \n",
        "#                #           num_encoder_tokens, num_decoder_tokens, device)\n",
        "#                 decoded_sentence = beam_search(model,train_X[i], input_char_index, output_char_index, reverse_input_char_index, \n",
        "#               reverse_target_char_index, max_encoder_seq_length, max_decoder_seq_length, \n",
        "#               num_encoder_tokens, num_decoder_tokens,1,device)\n",
        "#                 if train_Y[i][1:-1]== decoded_sentence:\n",
        "#                      correct_pred += 1\n",
        "#         #print(decoded_sentence)\n",
        "#         #print('\\n')\n",
        "#             train_accuracy = correct_pred / total_words\n",
        "            ######################################################################################################################\n",
        "            \n",
        "            \n",
        "            total_words = len(val_X)\n",
        "            correct_pred = 0\n",
        "            model.eval()\n",
        "            for i in range(total_words):\n",
        "                decoded_sentence = beam_searchLSTM(model,val_X[i], input_char_index, output_char_index, reverse_input_char_index, \n",
        "                      reverse_target_char_index, max_encoder_seq_length, max_decoder_seq_length, \n",
        "                      num_encoder_tokens, num_decoder_tokens,1,device)\n",
        "                \n",
        "                if val_Y[i][1:-1]== decoded_sentence:\n",
        "                     correct_pred += 1\n",
        "        #print(decoded_sentence)\n",
        "        #print('\\n')\n",
        "            test_accuracy = correct_pred / total_words\n",
        "\n",
        "            print(test_accuracy)\n",
        "            #########################################################################################################\n",
        "            #wandb.log({'val_accuracy' : test_accuracy*100})\n",
        "            #wandb.log({'train_loss' : total_loss})\n",
        "            #wandb.log({'train_accuracy' : train_accuracy*100})\n",
        "            ##########################################################################################################\n",
        "            \n",
        "            \n",
        "    elif(cell_type==\"GRU\"):\n",
        "            encoder_net = EncoderGRU(input_size_encoder, encoder_embedding_size, hidden_size, num_enc_layers, enc_dropout).to(device)\n",
        "            decoder_net = DecoderGRU(input_size_decoder,decoder_embedding_size,hidden_size,output_size,num_dec_layers,dec_dropout).to(device)\n",
        "            model = Seq2SeqGRU(encoder_net, decoder_net).to(device)\n",
        "            optimizer = optim.Adam(model.parameters(), lr=learning_rate)\n",
        "            criterion = nn.CrossEntropyLoss()\n",
        "            \n",
        "            \n",
        "            train_ds_x = torch.split(input_data,batch_size,dim=1)\n",
        "            train_ds_y = torch.split(target_data,batch_size,dim=1)\n",
        "            \n",
        "            for epoch in range(num_epochs):\n",
        "                print(f\"[Epoch {epoch} / {num_epochs}]\")\n",
        "                #wandb.log({'epochs' : epoch})##############################\n",
        "            \n",
        "                total_loss=0#############################\n",
        "\n",
        "                model.eval()\n",
        "                model.train()\n",
        "                total_loss=0\n",
        "\n",
        "                for i, (x,y) in enumerate(zip(train_ds_x,train_ds_y)):\n",
        "                    # Get input and targets and get to cuda\n",
        "                    inp_data = x.to(device)\n",
        "                    target = y.to(device)\n",
        "\n",
        "                    # Forward prop\n",
        "                    output = model(inp_data, target)\n",
        "\n",
        "        # Output is of shape (trg_len, batch_size, output_dim) but Cross Entropy Loss\n",
        "        # doesn't take input in that form. For example if we have MNIST we want to have\n",
        "        # output to be: (N, 10) and targets just (N). Here we can view it in a similar\n",
        "        # way that we have output_words * batch_size that we want to send in into\n",
        "        # our cost function, so we need to do some reshapin. While we're at it\n",
        "        # Let's also remove the start token while we're at it\n",
        "                    output = output[1:].reshape(-1, output.shape[2])\n",
        "                    target = target[1:].reshape(-1)\n",
        "                    \n",
        "    \n",
        "                    optimizer.zero_grad()\n",
        "                    loss = criterion(output, target)\n",
        "                    total_loss += loss#########################\n",
        "\n",
        "                    # Back prop\n",
        "                    loss.backward()\n",
        "\n",
        "        # Clip to avoid exploding gradient issues, makes sure grads are\n",
        "        # within a healthy range\n",
        "                    torch.nn.utils.clip_grad_norm_(model.parameters(), max_norm=1)\n",
        "\n",
        "        # Gradient descent step\n",
        "                    optimizer.step()\n",
        "            \n",
        "            \n",
        "            \n",
        "                ###################################################################################################################\n",
        "#                 total_words = len(train_X)\n",
        "#                 correct_pred = 0\n",
        "#                 model.eval()\n",
        "#                 for i in range(total_words):\n",
        "#            # print(val_Y[i][1:-1])\n",
        "#                   #  decoded_sentence = translate(model,train_X[i], input_char_index, output_char_index, reverse_input_char_index, \n",
        "#                    #           reverse_target_char_index, max_encoder_seq_length, max_decoder_seq_length, \n",
        "#                    #           num_encoder_tokens, num_decoder_tokens, device)\n",
        "#                     decoded_sentence = beam_search(model,train_X[i], input_char_index, output_char_index, reverse_input_char_index, \n",
        "#                   reverse_target_char_index, max_encoder_seq_length, max_decoder_seq_length, \n",
        "#                   num_encoder_tokens, num_decoder_tokens,1,device)\n",
        "#                     if train_Y[i][1:-1]== decoded_sentence:\n",
        "#                          correct_pred += 1\n",
        "#             #print(decoded_sentence)\n",
        "#             #print('\\n')\n",
        "#                 train_accuracy = correct_pred / total_words\n",
        "            ######################################################################################################################\n",
        "                total_words = len(val_X)\n",
        "                correct_pred = 0\n",
        "                model.eval()\n",
        "                for i in range(total_words):\n",
        "       # print(val_Y[i][1:-1])\n",
        "                #    decoded_sentence = translateGR(model,val_X[i], input_char_index, output_char_index, reverse_input_char_index, \n",
        "                #              reverse_target_char_index, max_encoder_seq_length, max_decoder_seq_length, \n",
        "                #              num_encoder_tokens, num_decoder_tokens, device)\n",
        "                    decoded_sentence = beam_searchGRU_RNN(model,val_X[i], input_char_index, output_char_index, reverse_input_char_index, \n",
        "              reverse_target_char_index, max_encoder_seq_length, max_decoder_seq_length, \n",
        "              num_encoder_tokens, num_decoder_tokens,beam_width,device)\n",
        "                    if val_Y[i][1:-1]== decoded_sentence:\n",
        "                         correct_pred += 1\n",
        "        #print(decoded_sentence)\n",
        "        #print('\\n')\n",
        "                test_accuracy = correct_pred / total_words\n",
        "\n",
        "                print(test_accuracy)\n",
        "                #wandb.log({'val_accuracy' : test_accuracy*100})\n",
        "                #wandb.log({'train_loss' : total_loss})\n",
        "                #wandb.log({'train_accuracy' : train_accuracy*100})\n",
        "                \n",
        "                \n",
        "                \n",
        "    else:\n",
        "            encoder_net = EncoderRNN(input_size_encoder, encoder_embedding_size, hidden_size, num_enc_layers, enc_dropout).to(device)\n",
        "            decoder_net = DecoderRNN(input_size_decoder,decoder_embedding_size,hidden_size,output_size,num_dec_layers,dec_dropout).to(device)\n",
        "            model = Seq2SeqRNN(encoder_net, decoder_net).to(device)\n",
        "            optimizer = optim.Adam(model.parameters(), lr=learning_rate)\n",
        "            criterion = nn.CrossEntropyLoss()\n",
        "            train_ds_x = torch.split(input_data,batch_size,dim=1)\n",
        "            train_ds_y = torch.split(target_data,batch_size,dim=1)\n",
        "            for epoch in range(num_epochs):\n",
        "                print(f\"[Epoch {epoch} / {num_epochs}]\")\n",
        "                #wandb.log({'epochs' : epoch})##############################\n",
        "            \n",
        "                total_loss=0#############################\n",
        "\n",
        "                model.eval()\n",
        "                model.train()\n",
        "\n",
        "                for i, (x,y) in enumerate(zip(train_ds_x,train_ds_y)):\n",
        "                    # Get input and targets and get to cuda\n",
        "                    inp_data = x.to(device)\n",
        "                    target = y.to(device)\n",
        "\n",
        "                    # Forward prop\n",
        "                    output = model(inp_data, target)\n",
        "                    \n",
        "\n",
        "        # Output is of shape (trg_len, batch_size, output_dim) but Cross Entropy Loss\n",
        "        # doesn't take input in that form. For example if we have MNIST we want to have\n",
        "        # output to be: (N, 10) and targets just (N). Here we can view it in a similar\n",
        "        # way that we have output_words * batch_size that we want to send in into\n",
        "        # our cost function, so we need to do some reshapin. While we're at it\n",
        "        # Let's also remove the start token while we're at it\n",
        "                    output = output[1:].reshape(-1, output.shape[2])\n",
        "                    target = target[1:].reshape(-1)\n",
        "                    \n",
        "    \n",
        "                    optimizer.zero_grad()\n",
        "                    loss = criterion(output, target)\n",
        "                    total_loss += loss#########################\n",
        "\n",
        "                    # Back prop\n",
        "                    loss.backward()\n",
        "\n",
        "        # Clip to avoid exploding gradient issues, makes sure grads are\n",
        "        # within a healthy range\n",
        "                    torch.nn.utils.clip_grad_norm_(model.parameters(), max_norm=1)\n",
        "\n",
        "        # Gradient descent step\n",
        "                    optimizer.step()\n",
        "            \n",
        "                ###################################################################################################################\n",
        "#                 total_words = len(train_X)\n",
        "#                 correct_pred = 0\n",
        "#                 model.eval()\n",
        "#                 for i in range(total_words):\n",
        "#            # print(val_Y[i][1:-1])\n",
        "#                   #  decoded_sentence = translate(model,train_X[i], input_char_index, output_char_index, reverse_input_char_index, \n",
        "#                    #           reverse_target_char_index, max_encoder_seq_length, max_decoder_seq_length, \n",
        "#                    #           num_encoder_tokens, num_decoder_tokens, device)\n",
        "#                     decoded_sentence = beam_search(model,train_X[i], input_char_index, output_char_index, reverse_input_char_index, \n",
        "#                   reverse_target_char_index, max_encoder_seq_length, max_decoder_seq_length, \n",
        "#                   num_encoder_tokens, num_decoder_tokens,1,device)\n",
        "#                     if train_Y[i][1:-1]== decoded_sentence:\n",
        "#                          correct_pred += 1\n",
        "#             #print(decoded_sentence)\n",
        "#             #print('\\n')\n",
        "#                 train_accuracy = correct_pred / total_words\n",
        "            ######################################################################################################################\n",
        "                total_words = len(val_X)\n",
        "                correct_pred = 0\n",
        "                model.eval()\n",
        "                for i in range(total_words):\n",
        "       # print(val_Y[i][1:-1])\n",
        "                    #decoded_sentence = translateGR(model,val_X[i], input_char_index, output_char_index, reverse_input_char_index, \n",
        "                    #          reverse_target_char_index, max_encoder_seq_length, max_decoder_seq_length, \n",
        "                    #          num_encoder_tokens, num_decoder_tokens, device)\n",
        "                    decoded_sentence = beam_searchGRU_RNN(model,val_X[i], input_char_index, output_char_index, reverse_input_char_index, \n",
        "              reverse_target_char_index, max_encoder_seq_length, max_decoder_seq_length, \n",
        "              num_encoder_tokens, num_decoder_tokens,beam_width,device)\n",
        "                    if val_Y[i][1:-1]== decoded_sentence:\n",
        "                         correct_pred += 1\n",
        "        #print(decoded_sentence)\n",
        "        #print('\\n')\n",
        "                test_accuracy = correct_pred / total_words\n",
        "\n",
        "                print(test_accuracy)\n",
        "                #wandb.log({'val_accuracy' : test_accuracy*100})\n",
        "                #wandb.log({'train_loss' : total_loss})\n",
        "                #wandb.log({'train_accuracy' : train_accuracy*100}) \n",
        "\n",
        "    return model\n",
        "                \n",
        "    "
      ],
      "metadata": {
        "id": "9jnDMfmMw2Yl",
        "execution": {
          "iopub.status.busy": "2023-05-21T14:47:07.993875Z",
          "iopub.execute_input": "2023-05-21T14:47:07.994448Z",
          "iopub.status.idle": "2023-05-21T14:47:08.032532Z",
          "shell.execute_reply.started": "2023-05-21T14:47:07.994411Z",
          "shell.execute_reply": "2023-05-21T14:47:08.031411Z"
        },
        "trusted": true
      },
      "execution_count": 28,
      "outputs": []
    },
    {
      "cell_type": "markdown",
      "source": [
        "#Running Wandb "
      ],
      "metadata": {
        "id": "Y2xfHE4q73d7"
      }
    },
    {
      "cell_type": "code",
      "source": [
        "sweep_config = {\n",
        "    'method': 'bayes',\n",
        "    'metric': {'goal': 'maximize', 'name': 'val_accuracy'},\n",
        "    'parameters': {'embedding_size': {'values': [128, 256, 512]},\n",
        "                   'hidden_size': {'values': [128, 256, 512]},\n",
        "                   'beam_search':{'values':[1,2,3,4,5]},\n",
        "                   'dropout': {'values': [0.1, 0.2, 0.3, 0.4]},\n",
        "                   'dec_num_layers':{'values': [1,2,3]},\n",
        "                   'batch_size': {'values': [128,256,512]},\n",
        "                   'cell_type': {'values': ['LSTM','GRU','RNN']},\n",
        "                   'epochs' :{'values':[10,20,30,40]},\n",
        "                   'enc_num_layers': {'values': [1,2,3]}\n",
        "                   \n",
        "                }}"
      ],
      "metadata": {
        "id": "Nsum06vtw2Yl",
        "execution": {
          "iopub.status.busy": "2023-05-21T14:47:08.277246Z",
          "iopub.execute_input": "2023-05-21T14:47:08.279135Z",
          "iopub.status.idle": "2023-05-21T14:47:08.286334Z",
          "shell.execute_reply.started": "2023-05-21T14:47:08.279104Z",
          "shell.execute_reply": "2023-05-21T14:47:08.285476Z"
        },
        "trusted": true
      },
      "execution_count": null,
      "outputs": []
    },
    {
      "cell_type": "code",
      "source": [
        "def train_func():\n",
        "    var1 = wandb.init()\n",
        "    var2 = var1.config\n",
        "    if(var2.cell_type==\"RNN\"):\n",
        "        var2.epochs = 10\n",
        "    training_function(input_size_encoder ,var2.embedding_size, var2.dropout, var2.cell_type, var2.hidden_size, var2.enc_num_layers,  var2.enc_num_layers,var2.epochs,num_decoder_tokens,num_decoder_tokens,var2.batch_size,var2.beam_search)"
      ],
      "metadata": {
        "id": "gwd6TJOew2Yl",
        "execution": {
          "iopub.status.busy": "2023-05-21T14:47:18.878559Z",
          "iopub.execute_input": "2023-05-21T14:47:18.878944Z",
          "iopub.status.idle": "2023-05-21T14:47:18.885254Z",
          "shell.execute_reply.started": "2023-05-21T14:47:18.878913Z",
          "shell.execute_reply": "2023-05-21T14:47:18.884250Z"
        },
        "trusted": true
      },
      "execution_count": null,
      "outputs": []
    },
    {
      "cell_type": "code",
      "source": [
        "import wandb\n",
        "wandb.login(key='1ee7845713d1303ac1abff70cf959518e1ae311c')\n",
        "wandb.init(project=\"cs6910_RNN_attention\")"
      ],
      "metadata": {
        "id": "8tK3aPQ0w2Yl",
        "execution": {
          "iopub.status.busy": "2023-05-21T14:47:19.707715Z",
          "iopub.execute_input": "2023-05-21T14:47:19.708073Z",
          "iopub.status.idle": "2023-05-21T14:47:53.202202Z",
          "shell.execute_reply.started": "2023-05-21T14:47:19.708042Z",
          "shell.execute_reply": "2023-05-21T14:47:53.201356Z"
        },
        "trusted": true,
        "outputId": "8ca2ecbc-e6c7-4062-af54-78c04873e11c"
      },
      "execution_count": null,
      "outputs": [
        {
          "name": "stderr",
          "text": "\u001b[34m\u001b[1mwandb\u001b[0m: W&B API key is configured. Use \u001b[1m`wandb login --relogin`\u001b[0m to force relogin\n\u001b[34m\u001b[1mwandb\u001b[0m: \u001b[33mWARNING\u001b[0m If you're specifying your api key in code, ensure this code is not shared publicly.\n\u001b[34m\u001b[1mwandb\u001b[0m: \u001b[33mWARNING\u001b[0m Consider setting the WANDB_API_KEY environment variable, or running `wandb login` from the command line.\n\u001b[34m\u001b[1mwandb\u001b[0m: Appending key for api.wandb.ai to your netrc file: /root/.netrc\n\u001b[34m\u001b[1mwandb\u001b[0m: Currently logged in as: \u001b[33mcs22m017\u001b[0m (\u001b[33mcs22m017-anup\u001b[0m). Use \u001b[1m`wandb login --relogin`\u001b[0m to force relogin\n",
          "output_type": "stream"
        },
        {
          "output_type": "display_data",
          "data": {
            "text/plain": "<IPython.core.display.HTML object>",
            "text/html": "wandb version 0.15.3 is available!  To upgrade, please run:\n $ pip install wandb --upgrade"
          },
          "metadata": {}
        },
        {
          "output_type": "display_data",
          "data": {
            "text/plain": "<IPython.core.display.HTML object>",
            "text/html": "Tracking run with wandb version 0.15.0"
          },
          "metadata": {}
        },
        {
          "output_type": "display_data",
          "data": {
            "text/plain": "<IPython.core.display.HTML object>",
            "text/html": "Run data is saved locally in <code>/kaggle/working/wandb/run-20230521_144722-s0sj1jg5</code>"
          },
          "metadata": {}
        },
        {
          "output_type": "display_data",
          "data": {
            "text/plain": "<IPython.core.display.HTML object>",
            "text/html": "Syncing run <strong><a href='https://wandb.ai/cs22m017-anup/cs6910_RNN_attention/runs/s0sj1jg5' target=\"_blank\">dazzling-silence-15</a></strong> to <a href='https://wandb.ai/cs22m017-anup/cs6910_RNN_attention' target=\"_blank\">Weights & Biases</a> (<a href='https://wandb.me/run' target=\"_blank\">docs</a>)<br/>"
          },
          "metadata": {}
        },
        {
          "output_type": "display_data",
          "data": {
            "text/plain": "<IPython.core.display.HTML object>",
            "text/html": " View project at <a href='https://wandb.ai/cs22m017-anup/cs6910_RNN_attention' target=\"_blank\">https://wandb.ai/cs22m017-anup/cs6910_RNN_attention</a>"
          },
          "metadata": {}
        },
        {
          "output_type": "display_data",
          "data": {
            "text/plain": "<IPython.core.display.HTML object>",
            "text/html": " View run at <a href='https://wandb.ai/cs22m017-anup/cs6910_RNN_attention/runs/s0sj1jg5' target=\"_blank\">https://wandb.ai/cs22m017-anup/cs6910_RNN_attention/runs/s0sj1jg5</a>"
          },
          "metadata": {}
        },
        {
          "execution_count": 24,
          "output_type": "execute_result",
          "data": {
            "text/html": "<button onClick=\"this.nextSibling.style.display='block';this.style.display='none';\">Display W&B run</button><iframe src='https://wandb.ai/cs22m017-anup/cs6910_RNN_attention/runs/s0sj1jg5?jupyter=true' style='border:none;width:100%;height:420px;display:none;'></iframe>",
            "text/plain": "<wandb.sdk.wandb_run.Run at 0x783300afef50>"
          },
          "metadata": {}
        }
      ]
    },
    {
      "cell_type": "code",
      "source": [
        "sweep_id = wandb.sweep(sweep_config, project=\"cs6910_RNN_attention\")\n",
        "wandb.agent(sweep_id, train_func, count=10)"
      ],
      "metadata": {
        "id": "W3zMJS8Dw2Ym",
        "execution": {
          "iopub.status.busy": "2023-05-21T14:47:53.206749Z",
          "iopub.execute_input": "2023-05-21T14:47:53.208913Z",
          "iopub.status.idle": "2023-05-21T20:06:02.712486Z",
          "shell.execute_reply.started": "2023-05-21T14:47:53.208877Z",
          "shell.execute_reply": "2023-05-21T20:06:02.711568Z"
        },
        "trusted": true,
        "colab": {
          "referenced_widgets": [
            "dfbc0cc36a7d40128389d17ee23f0dab",
            "ec86d1fadbf24b6a9bc6ee6836983771",
            "45e39606c4f64788ad37a5481c873e8e",
            "ffda95a39160459bafa427debd32ab49",
            "51103eb1f73a4139b81e628d7e10046d",
            "f2fab683762e4429864ce66da11040eb"
          ]
        },
        "outputId": "26aa9d1e-d93f-4a13-a2fe-3e8f047a1826"
      },
      "execution_count": null,
      "outputs": [
        {
          "name": "stderr",
          "text": "\u001b[34m\u001b[1mwandb\u001b[0m: \u001b[33mWARNING\u001b[0m Calling wandb.login() after wandb.init() has no effect.\n",
          "output_type": "stream"
        },
        {
          "name": "stdout",
          "text": "Create sweep with ID: 7gxuebbl\nSweep URL: https://wandb.ai/cs22m017-anup/cs6910_RNN_attention/sweeps/7gxuebbl\n",
          "output_type": "stream"
        },
        {
          "name": "stderr",
          "text": "wandb: Waiting for W&B process to finish... (success).\nwandb: 🚀 View run dazzling-silence-15 at: https://wandb.ai/cs22m017-anup/cs6910_RNN_attention/runs/s0sj1jg5\nwandb: Synced 6 W&B file(s), 0 media file(s), 0 artifact file(s) and 0 other file(s)\nwandb: Find logs at: ./wandb/run-20230521_144722-s0sj1jg5/logs\n\u001b[34m\u001b[1mwandb\u001b[0m: Agent Starting Run: 572u0xid with config:\n\u001b[34m\u001b[1mwandb\u001b[0m: \tbatch_size: 512\n\u001b[34m\u001b[1mwandb\u001b[0m: \tbeam_search: 1\n\u001b[34m\u001b[1mwandb\u001b[0m: \tcell_type: GRU\n\u001b[34m\u001b[1mwandb\u001b[0m: \tdec_num_layers: 1\n\u001b[34m\u001b[1mwandb\u001b[0m: \tdropout: 0.2\n\u001b[34m\u001b[1mwandb\u001b[0m: \tembedding_size: 512\n\u001b[34m\u001b[1mwandb\u001b[0m: \tenc_num_layers: 1\n\u001b[34m\u001b[1mwandb\u001b[0m: \tepochs: 10\n\u001b[34m\u001b[1mwandb\u001b[0m: \thidden_size: 512\n",
          "output_type": "stream"
        },
        {
          "output_type": "display_data",
          "data": {
            "text/plain": "<IPython.core.display.HTML object>",
            "text/html": "wandb version 0.15.3 is available!  To upgrade, please run:\n $ pip install wandb --upgrade"
          },
          "metadata": {}
        },
        {
          "output_type": "display_data",
          "data": {
            "text/plain": "<IPython.core.display.HTML object>",
            "text/html": "Tracking run with wandb version 0.15.0"
          },
          "metadata": {}
        },
        {
          "output_type": "display_data",
          "data": {
            "text/plain": "<IPython.core.display.HTML object>",
            "text/html": "Run data is saved locally in <code>/kaggle/working/wandb/run-20230521_144831-572u0xid</code>"
          },
          "metadata": {}
        },
        {
          "output_type": "display_data",
          "data": {
            "text/plain": "<IPython.core.display.HTML object>",
            "text/html": "Syncing run <strong><a href='https://wandb.ai/cs22m017-anup/cs6910_RNN_attention/runs/572u0xid' target=\"_blank\">worthy-sweep-1</a></strong> to <a href='https://wandb.ai/cs22m017-anup/cs6910_RNN_attention' target=\"_blank\">Weights & Biases</a> (<a href='https://wandb.me/run' target=\"_blank\">docs</a>)<br/>Sweep page: <a href='https://wandb.ai/cs22m017-anup/cs6910_RNN_attention/sweeps/7gxuebbl' target=\"_blank\">https://wandb.ai/cs22m017-anup/cs6910_RNN_attention/sweeps/7gxuebbl</a>"
          },
          "metadata": {}
        },
        {
          "output_type": "display_data",
          "data": {
            "text/plain": "<IPython.core.display.HTML object>",
            "text/html": " View project at <a href='https://wandb.ai/cs22m017-anup/cs6910_RNN_attention' target=\"_blank\">https://wandb.ai/cs22m017-anup/cs6910_RNN_attention</a>"
          },
          "metadata": {}
        },
        {
          "output_type": "display_data",
          "data": {
            "text/plain": "<IPython.core.display.HTML object>",
            "text/html": " View sweep at <a href='https://wandb.ai/cs22m017-anup/cs6910_RNN_attention/sweeps/7gxuebbl' target=\"_blank\">https://wandb.ai/cs22m017-anup/cs6910_RNN_attention/sweeps/7gxuebbl</a>"
          },
          "metadata": {}
        },
        {
          "output_type": "display_data",
          "data": {
            "text/plain": "<IPython.core.display.HTML object>",
            "text/html": " View run at <a href='https://wandb.ai/cs22m017-anup/cs6910_RNN_attention/runs/572u0xid' target=\"_blank\">https://wandb.ai/cs22m017-anup/cs6910_RNN_attention/runs/572u0xid</a>"
          },
          "metadata": {}
        },
        {
          "name": "stderr",
          "text": "/opt/conda/lib/python3.10/site-packages/torch/nn/modules/rnn.py:71: UserWarning: dropout option adds dropout after all but last recurrent layer, so non-zero dropout expects num_layers greater than 1, but got dropout=0.1 and num_layers=1\n  warnings.warn(\"dropout option adds dropout after all but last \"\n",
          "output_type": "stream"
        },
        {
          "name": "stdout",
          "text": "[Epoch 0 / 10]\n0.0\n[Epoch 1 / 10]\n0.0\n[Epoch 2 / 10]\n0.0\n[Epoch 3 / 10]\n0.00634765625\n[Epoch 4 / 10]\n0.047607421875\n[Epoch 5 / 10]\n0.08740234375\n[Epoch 6 / 10]\n0.12158203125\n[Epoch 7 / 10]\n0.142578125\n[Epoch 8 / 10]\n0.16455078125\n[Epoch 9 / 10]\n0.18505859375\n",
          "output_type": "stream"
        },
        {
          "output_type": "display_data",
          "data": {
            "text/plain": "<IPython.core.display.HTML object>",
            "text/html": "Waiting for W&B process to finish... <strong style=\"color:green\">(success).</strong>"
          },
          "metadata": {}
        },
        {
          "output_type": "display_data",
          "data": {
            "text/plain": "<IPython.core.display.HTML object>",
            "text/html": "<style>\n    table.wandb td:nth-child(1) { padding: 0 10px; text-align: left ; width: auto;} td:nth-child(2) {text-align: left ; width: 100%}\n    .wandb-row { display: flex; flex-direction: row; flex-wrap: wrap; justify-content: flex-start; width: 100% }\n    .wandb-col { display: flex; flex-direction: column; flex-basis: 100%; flex: 1; padding: 10px; }\n    </style>\n<div class=\"wandb-row\"><div class=\"wandb-col\"><h3>Run history:</h3><br/><table class=\"wandb\"><tr><td>epochs</td><td>▁▂▃▃▄▅▆▆▇█</td></tr><tr><td>train_loss</td><td>█▆▅▄▃▂▂▁▁▁</td></tr><tr><td>val_accuracy</td><td>▁▁▁▁▃▄▆▆▇█</td></tr></table><br/></div><div class=\"wandb-col\"><h3>Run summary:</h3><br/><table class=\"wandb\"><tr><td>epochs</td><td>9</td></tr><tr><td>train_loss</td><td>60.86078</td></tr><tr><td>val_accuracy</td><td>18.50586</td></tr></table><br/></div></div>"
          },
          "metadata": {}
        },
        {
          "output_type": "display_data",
          "data": {
            "text/plain": "<IPython.core.display.HTML object>",
            "text/html": " View run <strong style=\"color:#cdcd00\">worthy-sweep-1</strong> at: <a href='https://wandb.ai/cs22m017-anup/cs6910_RNN_attention/runs/572u0xid' target=\"_blank\">https://wandb.ai/cs22m017-anup/cs6910_RNN_attention/runs/572u0xid</a><br/>Synced 6 W&B file(s), 0 media file(s), 0 artifact file(s) and 0 other file(s)"
          },
          "metadata": {}
        },
        {
          "output_type": "display_data",
          "data": {
            "text/plain": "<IPython.core.display.HTML object>",
            "text/html": "Find logs at: <code>./wandb/run-20230521_144831-572u0xid/logs</code>"
          },
          "metadata": {}
        },
        {
          "name": "stderr",
          "text": "\u001b[34m\u001b[1mwandb\u001b[0m: Agent Starting Run: b829lik2 with config:\n\u001b[34m\u001b[1mwandb\u001b[0m: \tbatch_size: 512\n\u001b[34m\u001b[1mwandb\u001b[0m: \tbeam_search: 5\n\u001b[34m\u001b[1mwandb\u001b[0m: \tcell_type: LSTM\n\u001b[34m\u001b[1mwandb\u001b[0m: \tdec_num_layers: 1\n\u001b[34m\u001b[1mwandb\u001b[0m: \tdropout: 0.3\n\u001b[34m\u001b[1mwandb\u001b[0m: \tembedding_size: 512\n\u001b[34m\u001b[1mwandb\u001b[0m: \tenc_num_layers: 1\n\u001b[34m\u001b[1mwandb\u001b[0m: \tepochs: 10\n\u001b[34m\u001b[1mwandb\u001b[0m: \thidden_size: 512\n",
          "output_type": "stream"
        },
        {
          "output_type": "display_data",
          "data": {
            "text/plain": "<IPython.core.display.HTML object>",
            "text/html": "wandb version 0.15.3 is available!  To upgrade, please run:\n $ pip install wandb --upgrade"
          },
          "metadata": {}
        },
        {
          "output_type": "display_data",
          "data": {
            "text/plain": "<IPython.core.display.HTML object>",
            "text/html": "Tracking run with wandb version 0.15.0"
          },
          "metadata": {}
        },
        {
          "output_type": "display_data",
          "data": {
            "text/plain": "<IPython.core.display.HTML object>",
            "text/html": "Run data is saved locally in <code>/kaggle/working/wandb/run-20230521_145530-b829lik2</code>"
          },
          "metadata": {}
        },
        {
          "output_type": "display_data",
          "data": {
            "text/plain": "<IPython.core.display.HTML object>",
            "text/html": "Syncing run <strong><a href='https://wandb.ai/cs22m017-anup/cs6910_RNN_attention/runs/b829lik2' target=\"_blank\">young-sweep-2</a></strong> to <a href='https://wandb.ai/cs22m017-anup/cs6910_RNN_attention' target=\"_blank\">Weights & Biases</a> (<a href='https://wandb.me/run' target=\"_blank\">docs</a>)<br/>Sweep page: <a href='https://wandb.ai/cs22m017-anup/cs6910_RNN_attention/sweeps/7gxuebbl' target=\"_blank\">https://wandb.ai/cs22m017-anup/cs6910_RNN_attention/sweeps/7gxuebbl</a>"
          },
          "metadata": {}
        },
        {
          "output_type": "display_data",
          "data": {
            "text/plain": "<IPython.core.display.HTML object>",
            "text/html": " View project at <a href='https://wandb.ai/cs22m017-anup/cs6910_RNN_attention' target=\"_blank\">https://wandb.ai/cs22m017-anup/cs6910_RNN_attention</a>"
          },
          "metadata": {}
        },
        {
          "output_type": "display_data",
          "data": {
            "text/plain": "<IPython.core.display.HTML object>",
            "text/html": " View sweep at <a href='https://wandb.ai/cs22m017-anup/cs6910_RNN_attention/sweeps/7gxuebbl' target=\"_blank\">https://wandb.ai/cs22m017-anup/cs6910_RNN_attention/sweeps/7gxuebbl</a>"
          },
          "metadata": {}
        },
        {
          "output_type": "display_data",
          "data": {
            "text/plain": "<IPython.core.display.HTML object>",
            "text/html": " View run at <a href='https://wandb.ai/cs22m017-anup/cs6910_RNN_attention/runs/b829lik2' target=\"_blank\">https://wandb.ai/cs22m017-anup/cs6910_RNN_attention/runs/b829lik2</a>"
          },
          "metadata": {}
        },
        {
          "name": "stdout",
          "text": "hello1\nhello2\nhello3\nhello\n[Epoch 0 / 10]\n",
          "output_type": "stream"
        },
        {
          "name": "stderr",
          "text": "/opt/conda/lib/python3.10/site-packages/torch/nn/modules/rnn.py:71: UserWarning: dropout option adds dropout after all but last recurrent layer, so non-zero dropout expects num_layers greater than 1, but got dropout=0.3 and num_layers=1\n  warnings.warn(\"dropout option adds dropout after all but last \"\n",
          "output_type": "stream"
        },
        {
          "name": "stdout",
          "text": "0.0\n[Epoch 1 / 10]\n0.009765625\n[Epoch 2 / 10]\n0.081787109375\n[Epoch 3 / 10]\n0.1005859375\n[Epoch 4 / 10]\n0.129150390625\n[Epoch 5 / 10]\n0.148193359375\n[Epoch 6 / 10]\n0.16748046875\n[Epoch 7 / 10]\n0.193603515625\n[Epoch 9 / 10]\n0.219970703125\n",
          "output_type": "stream"
        },
        {
          "output_type": "display_data",
          "data": {
            "text/plain": "<IPython.core.display.HTML object>",
            "text/html": "Waiting for W&B process to finish... <strong style=\"color:green\">(success).</strong>"
          },
          "metadata": {}
        },
        {
          "output_type": "display_data",
          "data": {
            "text/plain": "<IPython.core.display.HTML object>",
            "text/html": "<style>\n    table.wandb td:nth-child(1) { padding: 0 10px; text-align: left ; width: auto;} td:nth-child(2) {text-align: left ; width: 100%}\n    .wandb-row { display: flex; flex-direction: row; flex-wrap: wrap; justify-content: flex-start; width: 100% }\n    .wandb-col { display: flex; flex-direction: column; flex-basis: 100%; flex: 1; padding: 10px; }\n    </style>\n<div class=\"wandb-row\"><div class=\"wandb-col\"><h3>Run history:</h3><br/><table class=\"wandb\"><tr><td>epochs</td><td>▁▂▃▃▄▅▆▆▇█</td></tr><tr><td>train_loss</td><td>█▅▃▂▂▂▁▁▁▁</td></tr><tr><td>val_accuracy</td><td>▁▁▄▄▅▆▆▇▇█</td></tr></table><br/></div><div class=\"wandb-col\"><h3>Run summary:</h3><br/><table class=\"wandb\"><tr><td>epochs</td><td>9</td></tr><tr><td>train_loss</td><td>58.53849</td></tr><tr><td>val_accuracy</td><td>21.99707</td></tr></table><br/></div></div>"
          },
          "metadata": {}
        },
        {
          "output_type": "display_data",
          "data": {
            "text/plain": "<IPython.core.display.HTML object>",
            "text/html": " View run <strong style=\"color:#cdcd00\">young-sweep-2</strong> at: <a href='https://wandb.ai/cs22m017-anup/cs6910_RNN_attention/runs/b829lik2' target=\"_blank\">https://wandb.ai/cs22m017-anup/cs6910_RNN_attention/runs/b829lik2</a><br/>Synced 6 W&B file(s), 0 media file(s), 0 artifact file(s) and 0 other file(s)"
          },
          "metadata": {}
        },
        {
          "output_type": "display_data",
          "data": {
            "text/plain": "<IPython.core.display.HTML object>",
            "text/html": "Find logs at: <code>./wandb/run-20230521_145530-b829lik2/logs</code>"
          },
          "metadata": {}
        },
        {
          "name": "stderr",
          "text": "\u001b[34m\u001b[1mwandb\u001b[0m: Agent Starting Run: f3wmw0iv with config:\n\u001b[34m\u001b[1mwandb\u001b[0m: \tbatch_size: 512\n\u001b[34m\u001b[1mwandb\u001b[0m: \tbeam_search: 1\n\u001b[34m\u001b[1mwandb\u001b[0m: \tcell_type: LSTM\n\u001b[34m\u001b[1mwandb\u001b[0m: \tdec_num_layers: 1\n\u001b[34m\u001b[1mwandb\u001b[0m: \tdropout: 0.2\n\u001b[34m\u001b[1mwandb\u001b[0m: \tembedding_size: 512\n\u001b[34m\u001b[1mwandb\u001b[0m: \tenc_num_layers: 1\n\u001b[34m\u001b[1mwandb\u001b[0m: \tepochs: 10\n\u001b[34m\u001b[1mwandb\u001b[0m: \thidden_size: 512\n",
          "output_type": "stream"
        },
        {
          "output_type": "display_data",
          "data": {
            "text/plain": "<IPython.core.display.HTML object>",
            "text/html": "wandb version 0.15.3 is available!  To upgrade, please run:\n $ pip install wandb --upgrade"
          },
          "metadata": {}
        },
        {
          "output_type": "display_data",
          "data": {
            "text/plain": "<IPython.core.display.HTML object>",
            "text/html": "Tracking run with wandb version 0.15.0"
          },
          "metadata": {}
        },
        {
          "output_type": "display_data",
          "data": {
            "text/plain": "<IPython.core.display.HTML object>",
            "text/html": "Run data is saved locally in <code>/kaggle/working/wandb/run-20230521_150246-f3wmw0iv</code>"
          },
          "metadata": {}
        },
        {
          "output_type": "display_data",
          "data": {
            "text/plain": "<IPython.core.display.HTML object>",
            "text/html": "Syncing run <strong><a href='https://wandb.ai/cs22m017-anup/cs6910_RNN_attention/runs/f3wmw0iv' target=\"_blank\">clean-sweep-3</a></strong> to <a href='https://wandb.ai/cs22m017-anup/cs6910_RNN_attention' target=\"_blank\">Weights & Biases</a> (<a href='https://wandb.me/run' target=\"_blank\">docs</a>)<br/>Sweep page: <a href='https://wandb.ai/cs22m017-anup/cs6910_RNN_attention/sweeps/7gxuebbl' target=\"_blank\">https://wandb.ai/cs22m017-anup/cs6910_RNN_attention/sweeps/7gxuebbl</a>"
          },
          "metadata": {}
        },
        {
          "output_type": "display_data",
          "data": {
            "text/plain": "<IPython.core.display.HTML object>",
            "text/html": " View project at <a href='https://wandb.ai/cs22m017-anup/cs6910_RNN_attention' target=\"_blank\">https://wandb.ai/cs22m017-anup/cs6910_RNN_attention</a>"
          },
          "metadata": {}
        },
        {
          "output_type": "display_data",
          "data": {
            "text/plain": "<IPython.core.display.HTML object>",
            "text/html": " View sweep at <a href='https://wandb.ai/cs22m017-anup/cs6910_RNN_attention/sweeps/7gxuebbl' target=\"_blank\">https://wandb.ai/cs22m017-anup/cs6910_RNN_attention/sweeps/7gxuebbl</a>"
          },
          "metadata": {}
        },
        {
          "output_type": "display_data",
          "data": {
            "text/plain": "<IPython.core.display.HTML object>",
            "text/html": " View run at <a href='https://wandb.ai/cs22m017-anup/cs6910_RNN_attention/runs/f3wmw0iv' target=\"_blank\">https://wandb.ai/cs22m017-anup/cs6910_RNN_attention/runs/f3wmw0iv</a>"
          },
          "metadata": {}
        },
        {
          "name": "stdout",
          "text": "hello1\nhello2\nhello3\nhello\n[Epoch 0 / 10]\n",
          "output_type": "stream"
        },
        {
          "name": "stderr",
          "text": "/opt/conda/lib/python3.10/site-packages/torch/nn/modules/rnn.py:71: UserWarning: dropout option adds dropout after all but last recurrent layer, so non-zero dropout expects num_layers greater than 1, but got dropout=0.2 and num_layers=1\n  warnings.warn(\"dropout option adds dropout after all but last \"\n",
          "output_type": "stream"
        },
        {
          "name": "stdout",
          "text": "0.0\n[Epoch 1 / 10]\n0.018310546875\n[Epoch 2 / 10]\n0.073486328125\n[Epoch 3 / 10]\n0.0986328125\n[Epoch 4 / 10]\n0.13720703125\n[Epoch 5 / 10]\n0.1552734375\n[Epoch 6 / 10]\n0.168212890625\n[Epoch 7 / 10]\n0.179443359375\n[Epoch 8 / 10]\n0.198974609375\n[Epoch 9 / 10]\n0.206787109375\n",
          "output_type": "stream"
        },
        {
          "output_type": "display_data",
          "data": {
            "text/plain": "<IPython.core.display.HTML object>",
            "text/html": "Waiting for W&B process to finish... <strong style=\"color:green\">(success).</strong>"
          },
          "metadata": {}
        },
        {
          "output_type": "display_data",
          "data": {
            "text/plain": "VBox(children=(Label(value='0.001 MB of 0.001 MB uploaded (0.000 MB deduped)\\r'), FloatProgress(value=1.0, max…",
            "application/vnd.jupyter.widget-view+json": {
              "version_major": 2,
              "version_minor": 0,
              "model_id": "dfbc0cc36a7d40128389d17ee23f0dab"
            }
          },
          "metadata": {}
        },
        {
          "output_type": "display_data",
          "data": {
            "text/plain": "<IPython.core.display.HTML object>",
            "text/html": "<style>\n    table.wandb td:nth-child(1) { padding: 0 10px; text-align: left ; width: auto;} td:nth-child(2) {text-align: left ; width: 100%}\n    .wandb-row { display: flex; flex-direction: row; flex-wrap: wrap; justify-content: flex-start; width: 100% }\n    .wandb-col { display: flex; flex-direction: column; flex-basis: 100%; flex: 1; padding: 10px; }\n    </style>\n<div class=\"wandb-row\"><div class=\"wandb-col\"><h3>Run history:</h3><br/><table class=\"wandb\"><tr><td>epochs</td><td>▁▂▃▃▄▅▆▆▇█</td></tr><tr><td>train_loss</td><td>█▄▃▂▂▁▁▁▁▁</td></tr><tr><td>val_accuracy</td><td>▁▂▃▄▆▆▇▇██</td></tr></table><br/></div><div class=\"wandb-col\"><h3>Run summary:</h3><br/><table class=\"wandb\"><tr><td>epochs</td><td>9</td></tr><tr><td>train_loss</td><td>58.69263</td></tr><tr><td>val_accuracy</td><td>20.67871</td></tr></table><br/></div></div>"
          },
          "metadata": {}
        },
        {
          "output_type": "display_data",
          "data": {
            "text/plain": "<IPython.core.display.HTML object>",
            "text/html": " View run <strong style=\"color:#cdcd00\">clean-sweep-3</strong> at: <a href='https://wandb.ai/cs22m017-anup/cs6910_RNN_attention/runs/f3wmw0iv' target=\"_blank\">https://wandb.ai/cs22m017-anup/cs6910_RNN_attention/runs/f3wmw0iv</a><br/>Synced 6 W&B file(s), 0 media file(s), 0 artifact file(s) and 0 other file(s)"
          },
          "metadata": {}
        },
        {
          "output_type": "display_data",
          "data": {
            "text/plain": "<IPython.core.display.HTML object>",
            "text/html": "Find logs at: <code>./wandb/run-20230521_150246-f3wmw0iv/logs</code>"
          },
          "metadata": {}
        },
        {
          "name": "stderr",
          "text": "\u001b[34m\u001b[1mwandb\u001b[0m: Agent Starting Run: z8798298 with config:\n\u001b[34m\u001b[1mwandb\u001b[0m: \tbatch_size: 512\n\u001b[34m\u001b[1mwandb\u001b[0m: \tbeam_search: 5\n\u001b[34m\u001b[1mwandb\u001b[0m: \tcell_type: RNN\n\u001b[34m\u001b[1mwandb\u001b[0m: \tdec_num_layers: 1\n\u001b[34m\u001b[1mwandb\u001b[0m: \tdropout: 0.2\n\u001b[34m\u001b[1mwandb\u001b[0m: \tembedding_size: 512\n\u001b[34m\u001b[1mwandb\u001b[0m: \tenc_num_layers: 1\n\u001b[34m\u001b[1mwandb\u001b[0m: \tepochs: 15\n\u001b[34m\u001b[1mwandb\u001b[0m: \thidden_size: 512\n",
          "output_type": "stream"
        },
        {
          "output_type": "display_data",
          "data": {
            "text/plain": "<IPython.core.display.HTML object>",
            "text/html": "wandb version 0.15.3 is available!  To upgrade, please run:\n $ pip install wandb --upgrade"
          },
          "metadata": {}
        },
        {
          "output_type": "display_data",
          "data": {
            "text/plain": "<IPython.core.display.HTML object>",
            "text/html": "Tracking run with wandb version 0.15.0"
          },
          "metadata": {}
        },
        {
          "output_type": "display_data",
          "data": {
            "text/plain": "<IPython.core.display.HTML object>",
            "text/html": "Run data is saved locally in <code>/kaggle/working/wandb/run-20230521_151009-z8798298</code>"
          },
          "metadata": {}
        },
        {
          "output_type": "display_data",
          "data": {
            "text/plain": "<IPython.core.display.HTML object>",
            "text/html": "Syncing run <strong><a href='https://wandb.ai/cs22m017-anup/cs6910_RNN_attention/runs/z8798298' target=\"_blank\">rare-sweep-4</a></strong> to <a href='https://wandb.ai/cs22m017-anup/cs6910_RNN_attention' target=\"_blank\">Weights & Biases</a> (<a href='https://wandb.me/run' target=\"_blank\">docs</a>)<br/>Sweep page: <a href='https://wandb.ai/cs22m017-anup/cs6910_RNN_attention/sweeps/7gxuebbl' target=\"_blank\">https://wandb.ai/cs22m017-anup/cs6910_RNN_attention/sweeps/7gxuebbl</a>"
          },
          "metadata": {}
        },
        {
          "output_type": "display_data",
          "data": {
            "text/plain": "<IPython.core.display.HTML object>",
            "text/html": " View project at <a href='https://wandb.ai/cs22m017-anup/cs6910_RNN_attention' target=\"_blank\">https://wandb.ai/cs22m017-anup/cs6910_RNN_attention</a>"
          },
          "metadata": {}
        },
        {
          "output_type": "display_data",
          "data": {
            "text/plain": "<IPython.core.display.HTML object>",
            "text/html": " View sweep at <a href='https://wandb.ai/cs22m017-anup/cs6910_RNN_attention/sweeps/7gxuebbl' target=\"_blank\">https://wandb.ai/cs22m017-anup/cs6910_RNN_attention/sweeps/7gxuebbl</a>"
          },
          "metadata": {}
        },
        {
          "output_type": "display_data",
          "data": {
            "text/plain": "<IPython.core.display.HTML object>",
            "text/html": " View run at <a href='https://wandb.ai/cs22m017-anup/cs6910_RNN_attention/runs/z8798298' target=\"_blank\">https://wandb.ai/cs22m017-anup/cs6910_RNN_attention/runs/z8798298</a>"
          },
          "metadata": {}
        },
        {
          "name": "stderr",
          "text": "\u001b[34m\u001b[1mwandb\u001b[0m: \u001b[33mWARNING\u001b[0m Config item 'epochs' was locked by 'sweep' (ignored update).\n",
          "output_type": "stream"
        },
        {
          "name": "stdout",
          "text": "[Epoch 0 / 15]\n0.0\n[Epoch 1 / 15]\n0.0\n[Epoch 2 / 15]\n0.000244140625\n[Epoch 3 / 15]\n0.0068359375\n[Epoch 4 / 15]\n0.046630859375\n[Epoch 5 / 15]\n0.085205078125\n[Epoch 6 / 15]\n0.118896484375\n[Epoch 7 / 15]\n0.133056640625\n[Epoch 8 / 15]\n0.137451171875\n[Epoch 9 / 15]\n0.15673828125\n[Epoch 10 / 15]\n0.176513671875\n[Epoch 11 / 15]\n0.185791015625\n[Epoch 12 / 15]\n0.20751953125\n[Epoch 13 / 15]\n0.2119140625\n[Epoch 14 / 15]\n0.22021484375\n",
          "output_type": "stream"
        },
        {
          "output_type": "display_data",
          "data": {
            "text/plain": "<IPython.core.display.HTML object>",
            "text/html": "Waiting for W&B process to finish... <strong style=\"color:green\">(success).</strong>"
          },
          "metadata": {}
        },
        {
          "output_type": "display_data",
          "data": {
            "text/plain": "<IPython.core.display.HTML object>",
            "text/html": "<style>\n    table.wandb td:nth-child(1) { padding: 0 10px; text-align: left ; width: auto;} td:nth-child(2) {text-align: left ; width: 100%}\n    .wandb-row { display: flex; flex-direction: row; flex-wrap: wrap; justify-content: flex-start; width: 100% }\n    .wandb-col { display: flex; flex-direction: column; flex-basis: 100%; flex: 1; padding: 10px; }\n    </style>\n<div class=\"wandb-row\"><div class=\"wandb-col\"><h3>Run history:</h3><br/><table class=\"wandb\"><tr><td>epochs</td><td>▁▁▂▃▃▃▄▅▅▅▆▇▇▇█</td></tr><tr><td>train_loss</td><td>█▆▅▄▃▃▂▂▂▁▁▁▁▁▁</td></tr><tr><td>val_accuracy</td><td>▁▁▁▁▂▄▅▅▅▆▇▇███</td></tr></table><br/></div><div class=\"wandb-col\"><h3>Run summary:</h3><br/><table class=\"wandb\"><tr><td>epochs</td><td>14</td></tr><tr><td>train_loss</td><td>56.98755</td></tr><tr><td>val_accuracy</td><td>22.02148</td></tr></table><br/></div></div>"
          },
          "metadata": {}
        },
        {
          "output_type": "display_data",
          "data": {
            "text/plain": "<IPython.core.display.HTML object>",
            "text/html": " View run <strong style=\"color:#cdcd00\">rare-sweep-4</strong> at: <a href='https://wandb.ai/cs22m017-anup/cs6910_RNN_attention/runs/z8798298' target=\"_blank\">https://wandb.ai/cs22m017-anup/cs6910_RNN_attention/runs/z8798298</a><br/>Synced 6 W&B file(s), 0 media file(s), 0 artifact file(s) and 0 other file(s)"
          },
          "metadata": {}
        },
        {
          "output_type": "display_data",
          "data": {
            "text/plain": "<IPython.core.display.HTML object>",
            "text/html": "Find logs at: <code>./wandb/run-20230521_151009-z8798298/logs</code>"
          },
          "metadata": {}
        },
        {
          "name": "stderr",
          "text": "\u001b[34m\u001b[1mwandb\u001b[0m: Agent Starting Run: azxnutif with config:\n\u001b[34m\u001b[1mwandb\u001b[0m: \tbatch_size: 512\n\u001b[34m\u001b[1mwandb\u001b[0m: \tbeam_search: 5\n\u001b[34m\u001b[1mwandb\u001b[0m: \tcell_type: GRU\n\u001b[34m\u001b[1mwandb\u001b[0m: \tdec_num_layers: 1\n\u001b[34m\u001b[1mwandb\u001b[0m: \tdropout: 0.3\n\u001b[34m\u001b[1mwandb\u001b[0m: \tembedding_size: 512\n\u001b[34m\u001b[1mwandb\u001b[0m: \tenc_num_layers: 1\n\u001b[34m\u001b[1mwandb\u001b[0m: \tepochs: 15\n\u001b[34m\u001b[1mwandb\u001b[0m: \thidden_size: 512\n",
          "output_type": "stream"
        },
        {
          "output_type": "display_data",
          "data": {
            "text/plain": "<IPython.core.display.HTML object>",
            "text/html": "wandb version 0.15.3 is available!  To upgrade, please run:\n $ pip install wandb --upgrade"
          },
          "metadata": {}
        },
        {
          "output_type": "display_data",
          "data": {
            "text/plain": "<IPython.core.display.HTML object>",
            "text/html": "Tracking run with wandb version 0.15.0"
          },
          "metadata": {}
        },
        {
          "output_type": "display_data",
          "data": {
            "text/plain": "<IPython.core.display.HTML object>",
            "text/html": "Run data is saved locally in <code>/kaggle/working/wandb/run-20230521_155742-azxnutif</code>"
          },
          "metadata": {}
        },
        {
          "output_type": "display_data",
          "data": {
            "text/plain": "<IPython.core.display.HTML object>",
            "text/html": "Syncing run <strong><a href='https://wandb.ai/cs22m017-anup/cs6910_RNN_attention/runs/azxnutif' target=\"_blank\">different-sweep-5</a></strong> to <a href='https://wandb.ai/cs22m017-anup/cs6910_RNN_attention' target=\"_blank\">Weights & Biases</a> (<a href='https://wandb.me/run' target=\"_blank\">docs</a>)<br/>Sweep page: <a href='https://wandb.ai/cs22m017-anup/cs6910_RNN_attention/sweeps/7gxuebbl' target=\"_blank\">https://wandb.ai/cs22m017-anup/cs6910_RNN_attention/sweeps/7gxuebbl</a>"
          },
          "metadata": {}
        },
        {
          "output_type": "display_data",
          "data": {
            "text/plain": "<IPython.core.display.HTML object>",
            "text/html": " View project at <a href='https://wandb.ai/cs22m017-anup/cs6910_RNN_attention' target=\"_blank\">https://wandb.ai/cs22m017-anup/cs6910_RNN_attention</a>"
          },
          "metadata": {}
        },
        {
          "output_type": "display_data",
          "data": {
            "text/plain": "<IPython.core.display.HTML object>",
            "text/html": " View sweep at <a href='https://wandb.ai/cs22m017-anup/cs6910_RNN_attention/sweeps/7gxuebbl' target=\"_blank\">https://wandb.ai/cs22m017-anup/cs6910_RNN_attention/sweeps/7gxuebbl</a>"
          },
          "metadata": {}
        },
        {
          "output_type": "display_data",
          "data": {
            "text/plain": "<IPython.core.display.HTML object>",
            "text/html": " View run at <a href='https://wandb.ai/cs22m017-anup/cs6910_RNN_attention/runs/azxnutif' target=\"_blank\">https://wandb.ai/cs22m017-anup/cs6910_RNN_attention/runs/azxnutif</a>"
          },
          "metadata": {}
        },
        {
          "name": "stdout",
          "text": "[Epoch 0 / 15]\n0.0\n[Epoch 1 / 15]\n0.0\n[Epoch 2 / 15]\n0.0\n[Epoch 3 / 15]\n0.0009765625\n[Epoch 4 / 15]\n0.041259765625\n[Epoch 5 / 15]\n0.0947265625\n[Epoch 6 / 15]\n0.11669921875\n[Epoch 7 / 15]\n0.1357421875\n[Epoch 8 / 15]\n0.17626953125\n[Epoch 9 / 15]\n0.18505859375\n[Epoch 10 / 15]\n0.2041015625\n[Epoch 11 / 15]\n0.21240234375\n[Epoch 12 / 15]\n0.228515625\n[Epoch 13 / 15]\n0.239990234375\n[Epoch 14 / 15]\n0.25390625\n",
          "output_type": "stream"
        },
        {
          "output_type": "display_data",
          "data": {
            "text/plain": "<IPython.core.display.HTML object>",
            "text/html": "Waiting for W&B process to finish... <strong style=\"color:green\">(success).</strong>"
          },
          "metadata": {}
        },
        {
          "output_type": "display_data",
          "data": {
            "text/plain": "VBox(children=(Label(value='0.001 MB of 0.016 MB uploaded (0.000 MB deduped)\\r'), FloatProgress(value=0.065876…",
            "application/vnd.jupyter.widget-view+json": {
              "version_major": 2,
              "version_minor": 0,
              "model_id": "ec86d1fadbf24b6a9bc6ee6836983771"
            }
          },
          "metadata": {}
        },
        {
          "output_type": "display_data",
          "data": {
            "text/plain": "<IPython.core.display.HTML object>",
            "text/html": "<style>\n    table.wandb td:nth-child(1) { padding: 0 10px; text-align: left ; width: auto;} td:nth-child(2) {text-align: left ; width: 100%}\n    .wandb-row { display: flex; flex-direction: row; flex-wrap: wrap; justify-content: flex-start; width: 100% }\n    .wandb-col { display: flex; flex-direction: column; flex-basis: 100%; flex: 1; padding: 10px; }\n    </style>\n<div class=\"wandb-row\"><div class=\"wandb-col\"><h3>Run history:</h3><br/><table class=\"wandb\"><tr><td>epochs</td><td>▁▁▂▃▃▃▄▅▅▅▆▇▇▇█</td></tr><tr><td>train_loss</td><td>█▆▆▅▄▃▂▂▂▁▁▁▁▁▁</td></tr><tr><td>val_accuracy</td><td>▁▁▁▁▂▄▄▅▆▆▇▇▇██</td></tr></table><br/></div><div class=\"wandb-col\"><h3>Run summary:</h3><br/><table class=\"wandb\"><tr><td>epochs</td><td>14</td></tr><tr><td>train_loss</td><td>52.26828</td></tr><tr><td>val_accuracy</td><td>25.39062</td></tr></table><br/></div></div>"
          },
          "metadata": {}
        },
        {
          "output_type": "display_data",
          "data": {
            "text/plain": "<IPython.core.display.HTML object>",
            "text/html": " View run <strong style=\"color:#cdcd00\">different-sweep-5</strong> at: <a href='https://wandb.ai/cs22m017-anup/cs6910_RNN_attention/runs/azxnutif' target=\"_blank\">https://wandb.ai/cs22m017-anup/cs6910_RNN_attention/runs/azxnutif</a><br/>Synced 6 W&B file(s), 0 media file(s), 0 artifact file(s) and 0 other file(s)"
          },
          "metadata": {}
        },
        {
          "output_type": "display_data",
          "data": {
            "text/plain": "<IPython.core.display.HTML object>",
            "text/html": "Find logs at: <code>./wandb/run-20230521_155742-azxnutif/logs</code>"
          },
          "metadata": {}
        },
        {
          "name": "stderr",
          "text": "\u001b[34m\u001b[1mwandb\u001b[0m: Agent Starting Run: w0gdvhm6 with config:\n\u001b[34m\u001b[1mwandb\u001b[0m: \tbatch_size: 512\n\u001b[34m\u001b[1mwandb\u001b[0m: \tbeam_search: 5\n\u001b[34m\u001b[1mwandb\u001b[0m: \tcell_type: RNN\n\u001b[34m\u001b[1mwandb\u001b[0m: \tdec_num_layers: 1\n\u001b[34m\u001b[1mwandb\u001b[0m: \tdropout: 0.3\n\u001b[34m\u001b[1mwandb\u001b[0m: \tembedding_size: 512\n\u001b[34m\u001b[1mwandb\u001b[0m: \tenc_num_layers: 1\n\u001b[34m\u001b[1mwandb\u001b[0m: \tepochs: 15\n\u001b[34m\u001b[1mwandb\u001b[0m: \thidden_size: 512\n",
          "output_type": "stream"
        },
        {
          "output_type": "display_data",
          "data": {
            "text/plain": "<IPython.core.display.HTML object>",
            "text/html": "wandb version 0.15.3 is available!  To upgrade, please run:\n $ pip install wandb --upgrade"
          },
          "metadata": {}
        },
        {
          "output_type": "display_data",
          "data": {
            "text/plain": "<IPython.core.display.HTML object>",
            "text/html": "Tracking run with wandb version 0.15.0"
          },
          "metadata": {}
        },
        {
          "output_type": "display_data",
          "data": {
            "text/plain": "<IPython.core.display.HTML object>",
            "text/html": "Run data is saved locally in <code>/kaggle/working/wandb/run-20230521_164518-w0gdvhm6</code>"
          },
          "metadata": {}
        },
        {
          "output_type": "display_data",
          "data": {
            "text/plain": "<IPython.core.display.HTML object>",
            "text/html": "Syncing run <strong><a href='https://wandb.ai/cs22m017-anup/cs6910_RNN_attention/runs/w0gdvhm6' target=\"_blank\">celestial-sweep-6</a></strong> to <a href='https://wandb.ai/cs22m017-anup/cs6910_RNN_attention' target=\"_blank\">Weights & Biases</a> (<a href='https://wandb.me/run' target=\"_blank\">docs</a>)<br/>Sweep page: <a href='https://wandb.ai/cs22m017-anup/cs6910_RNN_attention/sweeps/7gxuebbl' target=\"_blank\">https://wandb.ai/cs22m017-anup/cs6910_RNN_attention/sweeps/7gxuebbl</a>"
          },
          "metadata": {}
        },
        {
          "output_type": "display_data",
          "data": {
            "text/plain": "<IPython.core.display.HTML object>",
            "text/html": " View project at <a href='https://wandb.ai/cs22m017-anup/cs6910_RNN_attention' target=\"_blank\">https://wandb.ai/cs22m017-anup/cs6910_RNN_attention</a>"
          },
          "metadata": {}
        },
        {
          "output_type": "display_data",
          "data": {
            "text/plain": "<IPython.core.display.HTML object>",
            "text/html": " View sweep at <a href='https://wandb.ai/cs22m017-anup/cs6910_RNN_attention/sweeps/7gxuebbl' target=\"_blank\">https://wandb.ai/cs22m017-anup/cs6910_RNN_attention/sweeps/7gxuebbl</a>"
          },
          "metadata": {}
        },
        {
          "output_type": "display_data",
          "data": {
            "text/plain": "<IPython.core.display.HTML object>",
            "text/html": " View run at <a href='https://wandb.ai/cs22m017-anup/cs6910_RNN_attention/runs/w0gdvhm6' target=\"_blank\">https://wandb.ai/cs22m017-anup/cs6910_RNN_attention/runs/w0gdvhm6</a>"
          },
          "metadata": {}
        },
        {
          "name": "stderr",
          "text": "\u001b[34m\u001b[1mwandb\u001b[0m: \u001b[33mWARNING\u001b[0m Config item 'epochs' was locked by 'sweep' (ignored update).\n",
          "output_type": "stream"
        },
        {
          "name": "stdout",
          "text": "[Epoch 0 / 15]\n0.0\n[Epoch 1 / 15]\n0.0\n[Epoch 2 / 15]\n0.000244140625\n[Epoch 3 / 15]\n0.015380859375\n[Epoch 4 / 15]\n0.06103515625\n[Epoch 5 / 15]\n0.088134765625\n[Epoch 6 / 15]\n0.11572265625\n[Epoch 7 / 15]\n0.1337890625\n[Epoch 8 / 15]\n0.17236328125\n[Epoch 9 / 15]\n0.1904296875\n[Epoch 10 / 15]\n0.185546875\n[Epoch 11 / 15]\n0.20361328125\n[Epoch 12 / 15]\n0.206298828125\n[Epoch 13 / 15]\n0.223388671875\n[Epoch 14 / 15]\n0.22216796875\n",
          "output_type": "stream"
        },
        {
          "output_type": "display_data",
          "data": {
            "text/plain": "<IPython.core.display.HTML object>",
            "text/html": "Waiting for W&B process to finish... <strong style=\"color:green\">(success).</strong>"
          },
          "metadata": {}
        },
        {
          "output_type": "display_data",
          "data": {
            "text/plain": "<IPython.core.display.HTML object>",
            "text/html": "<style>\n    table.wandb td:nth-child(1) { padding: 0 10px; text-align: left ; width: auto;} td:nth-child(2) {text-align: left ; width: 100%}\n    .wandb-row { display: flex; flex-direction: row; flex-wrap: wrap; justify-content: flex-start; width: 100% }\n    .wandb-col { display: flex; flex-direction: column; flex-basis: 100%; flex: 1; padding: 10px; }\n    </style>\n<div class=\"wandb-row\"><div class=\"wandb-col\"><h3>Run history:</h3><br/><table class=\"wandb\"><tr><td>epochs</td><td>▁▁▂▃▃▃▄▅▅▅▆▇▇▇█</td></tr><tr><td>train_loss</td><td>█▆▆▄▃▂▂▂▂▁▁▁▁▁▁</td></tr><tr><td>val_accuracy</td><td>▁▁▁▁▃▄▅▅▆▇▇▇▇██</td></tr></table><br/></div><div class=\"wandb-col\"><h3>Run summary:</h3><br/><table class=\"wandb\"><tr><td>epochs</td><td>14</td></tr><tr><td>train_loss</td><td>56.03805</td></tr><tr><td>val_accuracy</td><td>22.2168</td></tr></table><br/></div></div>"
          },
          "metadata": {}
        },
        {
          "output_type": "display_data",
          "data": {
            "text/plain": "<IPython.core.display.HTML object>",
            "text/html": " View run <strong style=\"color:#cdcd00\">celestial-sweep-6</strong> at: <a href='https://wandb.ai/cs22m017-anup/cs6910_RNN_attention/runs/w0gdvhm6' target=\"_blank\">https://wandb.ai/cs22m017-anup/cs6910_RNN_attention/runs/w0gdvhm6</a><br/>Synced 6 W&B file(s), 0 media file(s), 0 artifact file(s) and 0 other file(s)"
          },
          "metadata": {}
        },
        {
          "output_type": "display_data",
          "data": {
            "text/plain": "<IPython.core.display.HTML object>",
            "text/html": "Find logs at: <code>./wandb/run-20230521_164518-w0gdvhm6/logs</code>"
          },
          "metadata": {}
        },
        {
          "name": "stderr",
          "text": "\u001b[34m\u001b[1mwandb\u001b[0m: Agent Starting Run: yxym2zvn with config:\n\u001b[34m\u001b[1mwandb\u001b[0m: \tbatch_size: 512\n\u001b[34m\u001b[1mwandb\u001b[0m: \tbeam_search: 5\n\u001b[34m\u001b[1mwandb\u001b[0m: \tcell_type: LSTM\n\u001b[34m\u001b[1mwandb\u001b[0m: \tdec_num_layers: 1\n\u001b[34m\u001b[1mwandb\u001b[0m: \tdropout: 0.3\n\u001b[34m\u001b[1mwandb\u001b[0m: \tembedding_size: 512\n\u001b[34m\u001b[1mwandb\u001b[0m: \tenc_num_layers: 1\n\u001b[34m\u001b[1mwandb\u001b[0m: \tepochs: 15\n\u001b[34m\u001b[1mwandb\u001b[0m: \thidden_size: 512\n",
          "output_type": "stream"
        },
        {
          "output_type": "display_data",
          "data": {
            "text/plain": "<IPython.core.display.HTML object>",
            "text/html": "wandb version 0.15.3 is available!  To upgrade, please run:\n $ pip install wandb --upgrade"
          },
          "metadata": {}
        },
        {
          "output_type": "display_data",
          "data": {
            "text/plain": "<IPython.core.display.HTML object>",
            "text/html": "Tracking run with wandb version 0.15.0"
          },
          "metadata": {}
        },
        {
          "output_type": "display_data",
          "data": {
            "text/plain": "<IPython.core.display.HTML object>",
            "text/html": "Run data is saved locally in <code>/kaggle/working/wandb/run-20230521_173214-yxym2zvn</code>"
          },
          "metadata": {}
        },
        {
          "output_type": "display_data",
          "data": {
            "text/plain": "<IPython.core.display.HTML object>",
            "text/html": "Syncing run <strong><a href='https://wandb.ai/cs22m017-anup/cs6910_RNN_attention/runs/yxym2zvn' target=\"_blank\">major-sweep-7</a></strong> to <a href='https://wandb.ai/cs22m017-anup/cs6910_RNN_attention' target=\"_blank\">Weights & Biases</a> (<a href='https://wandb.me/run' target=\"_blank\">docs</a>)<br/>Sweep page: <a href='https://wandb.ai/cs22m017-anup/cs6910_RNN_attention/sweeps/7gxuebbl' target=\"_blank\">https://wandb.ai/cs22m017-anup/cs6910_RNN_attention/sweeps/7gxuebbl</a>"
          },
          "metadata": {}
        },
        {
          "output_type": "display_data",
          "data": {
            "text/plain": "<IPython.core.display.HTML object>",
            "text/html": " View project at <a href='https://wandb.ai/cs22m017-anup/cs6910_RNN_attention' target=\"_blank\">https://wandb.ai/cs22m017-anup/cs6910_RNN_attention</a>"
          },
          "metadata": {}
        },
        {
          "output_type": "display_data",
          "data": {
            "text/plain": "<IPython.core.display.HTML object>",
            "text/html": " View sweep at <a href='https://wandb.ai/cs22m017-anup/cs6910_RNN_attention/sweeps/7gxuebbl' target=\"_blank\">https://wandb.ai/cs22m017-anup/cs6910_RNN_attention/sweeps/7gxuebbl</a>"
          },
          "metadata": {}
        },
        {
          "output_type": "display_data",
          "data": {
            "text/plain": "<IPython.core.display.HTML object>",
            "text/html": " View run at <a href='https://wandb.ai/cs22m017-anup/cs6910_RNN_attention/runs/yxym2zvn' target=\"_blank\">https://wandb.ai/cs22m017-anup/cs6910_RNN_attention/runs/yxym2zvn</a>"
          },
          "metadata": {}
        },
        {
          "name": "stdout",
          "text": "hello1\nhello2\nhello3\nhello\n[Epoch 0 / 15]\n0.0\n[Epoch 1 / 15]\n0.01025390625\n[Epoch 2 / 15]\n0.048583984375\n[Epoch 3 / 15]\n0.109619140625\n[Epoch 4 / 15]\n0.13037109375\n[Epoch 5 / 15]\n0.1533203125\n[Epoch 6 / 15]\n0.166748046875\n[Epoch 7 / 15]\n0.1845703125\n[Epoch 8 / 15]\n0.203857421875\n[Epoch 9 / 15]\n0.20751953125\n[Epoch 10 / 15]\n0.217041015625\n[Epoch 11 / 15]\n0.216796875\n[Epoch 12 / 15]\n0.22021484375\n[Epoch 13 / 15]\n0.234130859375\n[Epoch 14 / 15]\n0.23828125\n",
          "output_type": "stream"
        },
        {
          "output_type": "display_data",
          "data": {
            "text/plain": "<IPython.core.display.HTML object>",
            "text/html": "Waiting for W&B process to finish... <strong style=\"color:green\">(success).</strong>"
          },
          "metadata": {}
        },
        {
          "output_type": "display_data",
          "data": {
            "text/plain": "VBox(children=(Label(value='0.001 MB of 0.016 MB uploaded (0.000 MB deduped)\\r'), FloatProgress(value=0.065684…",
            "application/vnd.jupyter.widget-view+json": {
              "version_major": 2,
              "version_minor": 0,
              "model_id": "45e39606c4f64788ad37a5481c873e8e"
            }
          },
          "metadata": {}
        },
        {
          "output_type": "display_data",
          "data": {
            "text/plain": "<IPython.core.display.HTML object>",
            "text/html": "<style>\n    table.wandb td:nth-child(1) { padding: 0 10px; text-align: left ; width: auto;} td:nth-child(2) {text-align: left ; width: 100%}\n    .wandb-row { display: flex; flex-direction: row; flex-wrap: wrap; justify-content: flex-start; width: 100% }\n    .wandb-col { display: flex; flex-direction: column; flex-basis: 100%; flex: 1; padding: 10px; }\n    </style>\n<div class=\"wandb-row\"><div class=\"wandb-col\"><h3>Run history:</h3><br/><table class=\"wandb\"><tr><td>epochs</td><td>▁▁▂▃▃▃▄▅▅▅▆▇▇▇█</td></tr><tr><td>train_loss</td><td>█▅▃▂▂▂▂▁▁▁▁▁▁▁▁</td></tr><tr><td>val_accuracy</td><td>▁▁▂▄▅▆▆▆▇▇▇▇▇██</td></tr></table><br/></div><div class=\"wandb-col\"><h3>Run summary:</h3><br/><table class=\"wandb\"><tr><td>epochs</td><td>14</td></tr><tr><td>train_loss</td><td>53.50581</td></tr><tr><td>val_accuracy</td><td>23.82812</td></tr></table><br/></div></div>"
          },
          "metadata": {}
        },
        {
          "output_type": "display_data",
          "data": {
            "text/plain": "<IPython.core.display.HTML object>",
            "text/html": " View run <strong style=\"color:#cdcd00\">major-sweep-7</strong> at: <a href='https://wandb.ai/cs22m017-anup/cs6910_RNN_attention/runs/yxym2zvn' target=\"_blank\">https://wandb.ai/cs22m017-anup/cs6910_RNN_attention/runs/yxym2zvn</a><br/>Synced 6 W&B file(s), 0 media file(s), 0 artifact file(s) and 0 other file(s)"
          },
          "metadata": {}
        },
        {
          "output_type": "display_data",
          "data": {
            "text/plain": "<IPython.core.display.HTML object>",
            "text/html": "Find logs at: <code>./wandb/run-20230521_173214-yxym2zvn/logs</code>"
          },
          "metadata": {}
        },
        {
          "name": "stderr",
          "text": "\u001b[34m\u001b[1mwandb\u001b[0m: Agent Starting Run: ycfvmrey with config:\n\u001b[34m\u001b[1mwandb\u001b[0m: \tbatch_size: 512\n\u001b[34m\u001b[1mwandb\u001b[0m: \tbeam_search: 5\n\u001b[34m\u001b[1mwandb\u001b[0m: \tcell_type: GRU\n\u001b[34m\u001b[1mwandb\u001b[0m: \tdec_num_layers: 1\n\u001b[34m\u001b[1mwandb\u001b[0m: \tdropout: 0.3\n\u001b[34m\u001b[1mwandb\u001b[0m: \tembedding_size: 512\n\u001b[34m\u001b[1mwandb\u001b[0m: \tenc_num_layers: 1\n\u001b[34m\u001b[1mwandb\u001b[0m: \tepochs: 15\n\u001b[34m\u001b[1mwandb\u001b[0m: \thidden_size: 512\n",
          "output_type": "stream"
        },
        {
          "output_type": "display_data",
          "data": {
            "text/plain": "<IPython.core.display.HTML object>",
            "text/html": "wandb version 0.15.3 is available!  To upgrade, please run:\n $ pip install wandb --upgrade"
          },
          "metadata": {}
        },
        {
          "output_type": "display_data",
          "data": {
            "text/plain": "<IPython.core.display.HTML object>",
            "text/html": "Tracking run with wandb version 0.15.0"
          },
          "metadata": {}
        },
        {
          "output_type": "display_data",
          "data": {
            "text/plain": "<IPython.core.display.HTML object>",
            "text/html": "Run data is saved locally in <code>/kaggle/working/wandb/run-20230521_174248-ycfvmrey</code>"
          },
          "metadata": {}
        },
        {
          "output_type": "display_data",
          "data": {
            "text/plain": "<IPython.core.display.HTML object>",
            "text/html": "Syncing run <strong><a href='https://wandb.ai/cs22m017-anup/cs6910_RNN_attention/runs/ycfvmrey' target=\"_blank\">genial-sweep-8</a></strong> to <a href='https://wandb.ai/cs22m017-anup/cs6910_RNN_attention' target=\"_blank\">Weights & Biases</a> (<a href='https://wandb.me/run' target=\"_blank\">docs</a>)<br/>Sweep page: <a href='https://wandb.ai/cs22m017-anup/cs6910_RNN_attention/sweeps/7gxuebbl' target=\"_blank\">https://wandb.ai/cs22m017-anup/cs6910_RNN_attention/sweeps/7gxuebbl</a>"
          },
          "metadata": {}
        },
        {
          "output_type": "display_data",
          "data": {
            "text/plain": "<IPython.core.display.HTML object>",
            "text/html": " View project at <a href='https://wandb.ai/cs22m017-anup/cs6910_RNN_attention' target=\"_blank\">https://wandb.ai/cs22m017-anup/cs6910_RNN_attention</a>"
          },
          "metadata": {}
        },
        {
          "output_type": "display_data",
          "data": {
            "text/plain": "<IPython.core.display.HTML object>",
            "text/html": " View sweep at <a href='https://wandb.ai/cs22m017-anup/cs6910_RNN_attention/sweeps/7gxuebbl' target=\"_blank\">https://wandb.ai/cs22m017-anup/cs6910_RNN_attention/sweeps/7gxuebbl</a>"
          },
          "metadata": {}
        },
        {
          "output_type": "display_data",
          "data": {
            "text/plain": "<IPython.core.display.HTML object>",
            "text/html": " View run at <a href='https://wandb.ai/cs22m017-anup/cs6910_RNN_attention/runs/ycfvmrey' target=\"_blank\">https://wandb.ai/cs22m017-anup/cs6910_RNN_attention/runs/ycfvmrey</a>"
          },
          "metadata": {}
        },
        {
          "name": "stdout",
          "text": "[Epoch 0 / 15]\n0.0\n[Epoch 1 / 15]\n0.0\n[Epoch 2 / 15]\n0.0009765625\n[Epoch 3 / 15]\n0.009765625\n[Epoch 4 / 15]\n0.0576171875\n[Epoch 5 / 15]\n0.098876953125\n[Epoch 6 / 15]\n0.122802734375\n[Epoch 7 / 15]\n0.15771484375\n[Epoch 8 / 15]\n0.1767578125\n[Epoch 9 / 15]\n0.193603515625\n[Epoch 10 / 15]\n0.203125\n[Epoch 11 / 15]\n0.217529296875\n[Epoch 12 / 15]\n0.23681640625\n[Epoch 13 / 15]\n0.24609375\n[Epoch 14 / 15]\n0.245361328125\n",
          "output_type": "stream"
        },
        {
          "output_type": "display_data",
          "data": {
            "text/plain": "<IPython.core.display.HTML object>",
            "text/html": "Waiting for W&B process to finish... <strong style=\"color:green\">(success).</strong>"
          },
          "metadata": {}
        },
        {
          "output_type": "display_data",
          "data": {
            "text/plain": "VBox(children=(Label(value='0.001 MB of 0.001 MB uploaded (0.000 MB deduped)\\r'), FloatProgress(value=1.0, max…",
            "application/vnd.jupyter.widget-view+json": {
              "version_major": 2,
              "version_minor": 0,
              "model_id": "ffda95a39160459bafa427debd32ab49"
            }
          },
          "metadata": {}
        },
        {
          "output_type": "display_data",
          "data": {
            "text/plain": "<IPython.core.display.HTML object>",
            "text/html": "<style>\n    table.wandb td:nth-child(1) { padding: 0 10px; text-align: left ; width: auto;} td:nth-child(2) {text-align: left ; width: 100%}\n    .wandb-row { display: flex; flex-direction: row; flex-wrap: wrap; justify-content: flex-start; width: 100% }\n    .wandb-col { display: flex; flex-direction: column; flex-basis: 100%; flex: 1; padding: 10px; }\n    </style>\n<div class=\"wandb-row\"><div class=\"wandb-col\"><h3>Run history:</h3><br/><table class=\"wandb\"><tr><td>epochs</td><td>▁▁▂▃▃▃▄▅▅▅▆▇▇▇█</td></tr><tr><td>train_loss</td><td>█▆▅▄▃▃▂▂▂▁▁▁▁▁▁</td></tr><tr><td>val_accuracy</td><td>▁▁▁▁▃▄▄▅▆▇▇▇███</td></tr></table><br/></div><div class=\"wandb-col\"><h3>Run summary:</h3><br/><table class=\"wandb\"><tr><td>epochs</td><td>14</td></tr><tr><td>train_loss</td><td>51.9017</td></tr><tr><td>val_accuracy</td><td>24.53613</td></tr></table><br/></div></div>"
          },
          "metadata": {}
        },
        {
          "output_type": "display_data",
          "data": {
            "text/plain": "<IPython.core.display.HTML object>",
            "text/html": " View run <strong style=\"color:#cdcd00\">genial-sweep-8</strong> at: <a href='https://wandb.ai/cs22m017-anup/cs6910_RNN_attention/runs/ycfvmrey' target=\"_blank\">https://wandb.ai/cs22m017-anup/cs6910_RNN_attention/runs/ycfvmrey</a><br/>Synced 6 W&B file(s), 0 media file(s), 0 artifact file(s) and 0 other file(s)"
          },
          "metadata": {}
        },
        {
          "output_type": "display_data",
          "data": {
            "text/plain": "<IPython.core.display.HTML object>",
            "text/html": "Find logs at: <code>./wandb/run-20230521_174248-ycfvmrey/logs</code>"
          },
          "metadata": {}
        },
        {
          "name": "stderr",
          "text": "\u001b[34m\u001b[1mwandb\u001b[0m: Agent Starting Run: 50avj37b with config:\n\u001b[34m\u001b[1mwandb\u001b[0m: \tbatch_size: 512\n\u001b[34m\u001b[1mwandb\u001b[0m: \tbeam_search: 5\n\u001b[34m\u001b[1mwandb\u001b[0m: \tcell_type: RNN\n\u001b[34m\u001b[1mwandb\u001b[0m: \tdec_num_layers: 1\n\u001b[34m\u001b[1mwandb\u001b[0m: \tdropout: 0.3\n\u001b[34m\u001b[1mwandb\u001b[0m: \tembedding_size: 512\n\u001b[34m\u001b[1mwandb\u001b[0m: \tenc_num_layers: 1\n\u001b[34m\u001b[1mwandb\u001b[0m: \tepochs: 15\n\u001b[34m\u001b[1mwandb\u001b[0m: \thidden_size: 512\n",
          "output_type": "stream"
        },
        {
          "output_type": "display_data",
          "data": {
            "text/plain": "<IPython.core.display.HTML object>",
            "text/html": "wandb version 0.15.3 is available!  To upgrade, please run:\n $ pip install wandb --upgrade"
          },
          "metadata": {}
        },
        {
          "output_type": "display_data",
          "data": {
            "text/plain": "<IPython.core.display.HTML object>",
            "text/html": "Tracking run with wandb version 0.15.0"
          },
          "metadata": {}
        },
        {
          "output_type": "display_data",
          "data": {
            "text/plain": "<IPython.core.display.HTML object>",
            "text/html": "Run data is saved locally in <code>/kaggle/working/wandb/run-20230521_183059-50avj37b</code>"
          },
          "metadata": {}
        },
        {
          "output_type": "display_data",
          "data": {
            "text/plain": "<IPython.core.display.HTML object>",
            "text/html": "Syncing run <strong><a href='https://wandb.ai/cs22m017-anup/cs6910_RNN_attention/runs/50avj37b' target=\"_blank\">lucky-sweep-9</a></strong> to <a href='https://wandb.ai/cs22m017-anup/cs6910_RNN_attention' target=\"_blank\">Weights & Biases</a> (<a href='https://wandb.me/run' target=\"_blank\">docs</a>)<br/>Sweep page: <a href='https://wandb.ai/cs22m017-anup/cs6910_RNN_attention/sweeps/7gxuebbl' target=\"_blank\">https://wandb.ai/cs22m017-anup/cs6910_RNN_attention/sweeps/7gxuebbl</a>"
          },
          "metadata": {}
        },
        {
          "output_type": "display_data",
          "data": {
            "text/plain": "<IPython.core.display.HTML object>",
            "text/html": " View project at <a href='https://wandb.ai/cs22m017-anup/cs6910_RNN_attention' target=\"_blank\">https://wandb.ai/cs22m017-anup/cs6910_RNN_attention</a>"
          },
          "metadata": {}
        },
        {
          "output_type": "display_data",
          "data": {
            "text/plain": "<IPython.core.display.HTML object>",
            "text/html": " View sweep at <a href='https://wandb.ai/cs22m017-anup/cs6910_RNN_attention/sweeps/7gxuebbl' target=\"_blank\">https://wandb.ai/cs22m017-anup/cs6910_RNN_attention/sweeps/7gxuebbl</a>"
          },
          "metadata": {}
        },
        {
          "output_type": "display_data",
          "data": {
            "text/plain": "<IPython.core.display.HTML object>",
            "text/html": " View run at <a href='https://wandb.ai/cs22m017-anup/cs6910_RNN_attention/runs/50avj37b' target=\"_blank\">https://wandb.ai/cs22m017-anup/cs6910_RNN_attention/runs/50avj37b</a>"
          },
          "metadata": {}
        },
        {
          "name": "stderr",
          "text": "\u001b[34m\u001b[1mwandb\u001b[0m: \u001b[33mWARNING\u001b[0m Config item 'epochs' was locked by 'sweep' (ignored update).\n",
          "output_type": "stream"
        },
        {
          "name": "stdout",
          "text": "[Epoch 0 / 15]\n0.0\n[Epoch 1 / 15]\n0.0\n[Epoch 2 / 15]\n0.003173828125\n[Epoch 3 / 15]\n0.031494140625\n[Epoch 4 / 15]\n0.076904296875\n[Epoch 5 / 15]\n0.102294921875\n[Epoch 6 / 15]\n0.119873046875\n[Epoch 7 / 15]\n0.1240234375\n[Epoch 8 / 15]\n0.14697265625\n[Epoch 9 / 15]\n0.17333984375\n[Epoch 10 / 15]\n0.1875\n[Epoch 11 / 15]\n0.197021484375\n[Epoch 12 / 15]\n0.209228515625\n[Epoch 13 / 15]\n0.217041015625\n[Epoch 14 / 15]\n0.21484375\n",
          "output_type": "stream"
        },
        {
          "output_type": "display_data",
          "data": {
            "text/plain": "<IPython.core.display.HTML object>",
            "text/html": "Waiting for W&B process to finish... <strong style=\"color:green\">(success).</strong>"
          },
          "metadata": {}
        },
        {
          "output_type": "display_data",
          "data": {
            "text/plain": "VBox(children=(Label(value='0.001 MB of 0.001 MB uploaded (0.000 MB deduped)\\r'), FloatProgress(value=1.0, max…",
            "application/vnd.jupyter.widget-view+json": {
              "version_major": 2,
              "version_minor": 0,
              "model_id": "51103eb1f73a4139b81e628d7e10046d"
            }
          },
          "metadata": {}
        },
        {
          "output_type": "display_data",
          "data": {
            "text/plain": "<IPython.core.display.HTML object>",
            "text/html": "<style>\n    table.wandb td:nth-child(1) { padding: 0 10px; text-align: left ; width: auto;} td:nth-child(2) {text-align: left ; width: 100%}\n    .wandb-row { display: flex; flex-direction: row; flex-wrap: wrap; justify-content: flex-start; width: 100% }\n    .wandb-col { display: flex; flex-direction: column; flex-basis: 100%; flex: 1; padding: 10px; }\n    </style>\n<div class=\"wandb-row\"><div class=\"wandb-col\"><h3>Run history:</h3><br/><table class=\"wandb\"><tr><td>epochs</td><td>▁▁▂▃▃▃▄▅▅▅▆▇▇▇█</td></tr><tr><td>train_loss</td><td>█▆▅▄▃▂▂▂▂▁▁▁▁▁▁</td></tr><tr><td>val_accuracy</td><td>▁▁▁▂▃▄▅▅▆▇▇▇███</td></tr></table><br/></div><div class=\"wandb-col\"><h3>Run summary:</h3><br/><table class=\"wandb\"><tr><td>epochs</td><td>14</td></tr><tr><td>train_loss</td><td>55.96663</td></tr><tr><td>val_accuracy</td><td>21.48438</td></tr></table><br/></div></div>"
          },
          "metadata": {}
        },
        {
          "output_type": "display_data",
          "data": {
            "text/plain": "<IPython.core.display.HTML object>",
            "text/html": " View run <strong style=\"color:#cdcd00\">lucky-sweep-9</strong> at: <a href='https://wandb.ai/cs22m017-anup/cs6910_RNN_attention/runs/50avj37b' target=\"_blank\">https://wandb.ai/cs22m017-anup/cs6910_RNN_attention/runs/50avj37b</a><br/>Synced 6 W&B file(s), 0 media file(s), 0 artifact file(s) and 0 other file(s)"
          },
          "metadata": {}
        },
        {
          "output_type": "display_data",
          "data": {
            "text/plain": "<IPython.core.display.HTML object>",
            "text/html": "Find logs at: <code>./wandb/run-20230521_183059-50avj37b/logs</code>"
          },
          "metadata": {}
        },
        {
          "name": "stderr",
          "text": "\u001b[34m\u001b[1mwandb\u001b[0m: Agent Starting Run: 20bh753x with config:\n\u001b[34m\u001b[1mwandb\u001b[0m: \tbatch_size: 512\n\u001b[34m\u001b[1mwandb\u001b[0m: \tbeam_search: 5\n\u001b[34m\u001b[1mwandb\u001b[0m: \tcell_type: GRU\n\u001b[34m\u001b[1mwandb\u001b[0m: \tdec_num_layers: 1\n\u001b[34m\u001b[1mwandb\u001b[0m: \tdropout: 0.3\n\u001b[34m\u001b[1mwandb\u001b[0m: \tembedding_size: 512\n\u001b[34m\u001b[1mwandb\u001b[0m: \tenc_num_layers: 1\n\u001b[34m\u001b[1mwandb\u001b[0m: \tepochs: 15\n\u001b[34m\u001b[1mwandb\u001b[0m: \thidden_size: 512\n",
          "output_type": "stream"
        },
        {
          "output_type": "display_data",
          "data": {
            "text/plain": "<IPython.core.display.HTML object>",
            "text/html": "wandb version 0.15.3 is available!  To upgrade, please run:\n $ pip install wandb --upgrade"
          },
          "metadata": {}
        },
        {
          "output_type": "display_data",
          "data": {
            "text/plain": "<IPython.core.display.HTML object>",
            "text/html": "Tracking run with wandb version 0.15.0"
          },
          "metadata": {}
        },
        {
          "output_type": "display_data",
          "data": {
            "text/plain": "<IPython.core.display.HTML object>",
            "text/html": "Run data is saved locally in <code>/kaggle/working/wandb/run-20230521_191832-20bh753x</code>"
          },
          "metadata": {}
        },
        {
          "output_type": "display_data",
          "data": {
            "text/plain": "<IPython.core.display.HTML object>",
            "text/html": "Syncing run <strong><a href='https://wandb.ai/cs22m017-anup/cs6910_RNN_attention/runs/20bh753x' target=\"_blank\">glorious-sweep-10</a></strong> to <a href='https://wandb.ai/cs22m017-anup/cs6910_RNN_attention' target=\"_blank\">Weights & Biases</a> (<a href='https://wandb.me/run' target=\"_blank\">docs</a>)<br/>Sweep page: <a href='https://wandb.ai/cs22m017-anup/cs6910_RNN_attention/sweeps/7gxuebbl' target=\"_blank\">https://wandb.ai/cs22m017-anup/cs6910_RNN_attention/sweeps/7gxuebbl</a>"
          },
          "metadata": {}
        },
        {
          "output_type": "display_data",
          "data": {
            "text/plain": "<IPython.core.display.HTML object>",
            "text/html": " View project at <a href='https://wandb.ai/cs22m017-anup/cs6910_RNN_attention' target=\"_blank\">https://wandb.ai/cs22m017-anup/cs6910_RNN_attention</a>"
          },
          "metadata": {}
        },
        {
          "output_type": "display_data",
          "data": {
            "text/plain": "<IPython.core.display.HTML object>",
            "text/html": " View sweep at <a href='https://wandb.ai/cs22m017-anup/cs6910_RNN_attention/sweeps/7gxuebbl' target=\"_blank\">https://wandb.ai/cs22m017-anup/cs6910_RNN_attention/sweeps/7gxuebbl</a>"
          },
          "metadata": {}
        },
        {
          "output_type": "display_data",
          "data": {
            "text/plain": "<IPython.core.display.HTML object>",
            "text/html": " View run at <a href='https://wandb.ai/cs22m017-anup/cs6910_RNN_attention/runs/20bh753x' target=\"_blank\">https://wandb.ai/cs22m017-anup/cs6910_RNN_attention/runs/20bh753x</a>"
          },
          "metadata": {}
        },
        {
          "name": "stdout",
          "text": "[Epoch 0 / 15]\n0.0\n[Epoch 1 / 15]\n0.0\n[Epoch 2 / 15]\n0.00048828125\n[Epoch 3 / 15]\n0.0166015625\n[Epoch 4 / 15]\n0.07421875\n[Epoch 5 / 15]\n0.110595703125\n[Epoch 6 / 15]\n0.139404296875\n[Epoch 7 / 15]\n0.170166015625\n[Epoch 8 / 15]\n0.1884765625\n[Epoch 9 / 15]\n0.202880859375\n[Epoch 10 / 15]\n0.218994140625\n[Epoch 11 / 15]\n0.2255859375\n[Epoch 12 / 15]\n0.233154296875\n[Epoch 13 / 15]\n0.25048828125\n[Epoch 14 / 15]\n0.253173828125\n",
          "output_type": "stream"
        },
        {
          "output_type": "display_data",
          "data": {
            "text/plain": "<IPython.core.display.HTML object>",
            "text/html": "Waiting for W&B process to finish... <strong style=\"color:green\">(success).</strong>"
          },
          "metadata": {}
        },
        {
          "output_type": "display_data",
          "data": {
            "text/plain": "VBox(children=(Label(value='0.001 MB of 0.001 MB uploaded (0.000 MB deduped)\\r'), FloatProgress(value=1.0, max…",
            "application/vnd.jupyter.widget-view+json": {
              "version_major": 2,
              "version_minor": 0,
              "model_id": "f2fab683762e4429864ce66da11040eb"
            }
          },
          "metadata": {}
        },
        {
          "output_type": "display_data",
          "data": {
            "text/plain": "<IPython.core.display.HTML object>",
            "text/html": "<style>\n    table.wandb td:nth-child(1) { padding: 0 10px; text-align: left ; width: auto;} td:nth-child(2) {text-align: left ; width: 100%}\n    .wandb-row { display: flex; flex-direction: row; flex-wrap: wrap; justify-content: flex-start; width: 100% }\n    .wandb-col { display: flex; flex-direction: column; flex-basis: 100%; flex: 1; padding: 10px; }\n    </style>\n<div class=\"wandb-row\"><div class=\"wandb-col\"><h3>Run history:</h3><br/><table class=\"wandb\"><tr><td>epochs</td><td>▁▁▂▃▃▃▄▅▅▅▆▇▇▇█</td></tr><tr><td>train_loss</td><td>█▆▅▄▃▂▂▂▂▁▁▁▁▁▁</td></tr><tr><td>val_accuracy</td><td>▁▁▁▁▃▄▅▆▆▇▇▇▇██</td></tr></table><br/></div><div class=\"wandb-col\"><h3>Run summary:</h3><br/><table class=\"wandb\"><tr><td>epochs</td><td>14</td></tr><tr><td>train_loss</td><td>51.57237</td></tr><tr><td>val_accuracy</td><td>25.31738</td></tr></table><br/></div></div>"
          },
          "metadata": {}
        },
        {
          "output_type": "display_data",
          "data": {
            "text/plain": "<IPython.core.display.HTML object>",
            "text/html": " View run <strong style=\"color:#cdcd00\">glorious-sweep-10</strong> at: <a href='https://wandb.ai/cs22m017-anup/cs6910_RNN_attention/runs/20bh753x' target=\"_blank\">https://wandb.ai/cs22m017-anup/cs6910_RNN_attention/runs/20bh753x</a><br/>Synced 6 W&B file(s), 0 media file(s), 0 artifact file(s) and 0 other file(s)"
          },
          "metadata": {}
        },
        {
          "output_type": "display_data",
          "data": {
            "text/plain": "<IPython.core.display.HTML object>",
            "text/html": "Find logs at: <code>./wandb/run-20230521_191832-20bh753x/logs</code>"
          },
          "metadata": {}
        },
        {
          "name": "stdout",
          "text": "Error in callback <function _WandbInit._pause_backend at 0x7833013b7d00> (for post_run_cell):\n",
          "output_type": "stream"
        },
        {
          "traceback": [
            "\u001b[0;31m---------------------------------------------------------------------------\u001b[0m",
            "\u001b[0;31mBrokenPipeError\u001b[0m                           Traceback (most recent call last)",
            "File \u001b[0;32m/opt/conda/lib/python3.10/site-packages/backcall/backcall.py:104\u001b[0m, in \u001b[0;36mcallback_prototype.<locals>.adapt.<locals>.adapted\u001b[0;34m(*args, **kwargs)\u001b[0m\n\u001b[1;32m    102\u001b[0m                 kwargs\u001b[38;5;241m.\u001b[39mpop(name)\n\u001b[1;32m    103\u001b[0m \u001b[38;5;66;03m#            print(args, kwargs, unmatched_pos, cut_positional, unmatched_kw)\u001b[39;00m\n\u001b[0;32m--> 104\u001b[0m             \u001b[38;5;28;01mreturn\u001b[39;00m \u001b[43mcallback\u001b[49m\u001b[43m(\u001b[49m\u001b[38;5;241;43m*\u001b[39;49m\u001b[43margs\u001b[49m\u001b[43m,\u001b[49m\u001b[43m \u001b[49m\u001b[38;5;241;43m*\u001b[39;49m\u001b[38;5;241;43m*\u001b[39;49m\u001b[43mkwargs\u001b[49m\u001b[43m)\u001b[49m\n",
            "File \u001b[0;32m/opt/conda/lib/python3.10/site-packages/wandb/sdk/wandb_init.py:419\u001b[0m, in \u001b[0;36m_WandbInit._pause_backend\u001b[0;34m(self)\u001b[0m\n\u001b[1;32m    417\u001b[0m \u001b[38;5;28;01mif\u001b[39;00m \u001b[38;5;28mself\u001b[39m\u001b[38;5;241m.\u001b[39mbackend\u001b[38;5;241m.\u001b[39minterface \u001b[38;5;129;01mis\u001b[39;00m \u001b[38;5;129;01mnot\u001b[39;00m \u001b[38;5;28;01mNone\u001b[39;00m:\n\u001b[1;32m    418\u001b[0m     logger\u001b[38;5;241m.\u001b[39minfo(\u001b[38;5;124m\"\u001b[39m\u001b[38;5;124mpausing backend\u001b[39m\u001b[38;5;124m\"\u001b[39m)  \u001b[38;5;66;03m# type: ignore\u001b[39;00m\n\u001b[0;32m--> 419\u001b[0m     \u001b[38;5;28;43mself\u001b[39;49m\u001b[38;5;241;43m.\u001b[39;49m\u001b[43mbackend\u001b[49m\u001b[38;5;241;43m.\u001b[39;49m\u001b[43minterface\u001b[49m\u001b[38;5;241;43m.\u001b[39;49m\u001b[43mpublish_pause\u001b[49m\u001b[43m(\u001b[49m\u001b[43m)\u001b[49m\n",
            "File \u001b[0;32m/opt/conda/lib/python3.10/site-packages/wandb/sdk/interface/interface.py:665\u001b[0m, in \u001b[0;36mInterfaceBase.publish_pause\u001b[0;34m(self)\u001b[0m\n\u001b[1;32m    663\u001b[0m \u001b[38;5;28;01mdef\u001b[39;00m \u001b[38;5;21mpublish_pause\u001b[39m(\u001b[38;5;28mself\u001b[39m) \u001b[38;5;241m-\u001b[39m\u001b[38;5;241m>\u001b[39m \u001b[38;5;28;01mNone\u001b[39;00m:\n\u001b[1;32m    664\u001b[0m     pause \u001b[38;5;241m=\u001b[39m pb\u001b[38;5;241m.\u001b[39mPauseRequest()\n\u001b[0;32m--> 665\u001b[0m     \u001b[38;5;28;43mself\u001b[39;49m\u001b[38;5;241;43m.\u001b[39;49m\u001b[43m_publish_pause\u001b[49m\u001b[43m(\u001b[49m\u001b[43mpause\u001b[49m\u001b[43m)\u001b[49m\n",
            "File \u001b[0;32m/opt/conda/lib/python3.10/site-packages/wandb/sdk/interface/interface_shared.py:340\u001b[0m, in \u001b[0;36mInterfaceShared._publish_pause\u001b[0;34m(self, pause)\u001b[0m\n\u001b[1;32m    338\u001b[0m \u001b[38;5;28;01mdef\u001b[39;00m \u001b[38;5;21m_publish_pause\u001b[39m(\u001b[38;5;28mself\u001b[39m, pause: pb\u001b[38;5;241m.\u001b[39mPauseRequest) \u001b[38;5;241m-\u001b[39m\u001b[38;5;241m>\u001b[39m \u001b[38;5;28;01mNone\u001b[39;00m:\n\u001b[1;32m    339\u001b[0m     rec \u001b[38;5;241m=\u001b[39m \u001b[38;5;28mself\u001b[39m\u001b[38;5;241m.\u001b[39m_make_request(pause\u001b[38;5;241m=\u001b[39mpause)\n\u001b[0;32m--> 340\u001b[0m     \u001b[38;5;28;43mself\u001b[39;49m\u001b[38;5;241;43m.\u001b[39;49m\u001b[43m_publish\u001b[49m\u001b[43m(\u001b[49m\u001b[43mrec\u001b[49m\u001b[43m)\u001b[49m\n",
            "File \u001b[0;32m/opt/conda/lib/python3.10/site-packages/wandb/sdk/interface/interface_sock.py:51\u001b[0m, in \u001b[0;36mInterfaceSock._publish\u001b[0;34m(self, record, local)\u001b[0m\n\u001b[1;32m     49\u001b[0m \u001b[38;5;28;01mdef\u001b[39;00m \u001b[38;5;21m_publish\u001b[39m(\u001b[38;5;28mself\u001b[39m, record: \u001b[38;5;124m\"\u001b[39m\u001b[38;5;124mpb.Record\u001b[39m\u001b[38;5;124m\"\u001b[39m, local: Optional[\u001b[38;5;28mbool\u001b[39m] \u001b[38;5;241m=\u001b[39m \u001b[38;5;28;01mNone\u001b[39;00m) \u001b[38;5;241m-\u001b[39m\u001b[38;5;241m>\u001b[39m \u001b[38;5;28;01mNone\u001b[39;00m:\n\u001b[1;32m     50\u001b[0m     \u001b[38;5;28mself\u001b[39m\u001b[38;5;241m.\u001b[39m_assign(record)\n\u001b[0;32m---> 51\u001b[0m     \u001b[38;5;28;43mself\u001b[39;49m\u001b[38;5;241;43m.\u001b[39;49m\u001b[43m_sock_client\u001b[49m\u001b[38;5;241;43m.\u001b[39;49m\u001b[43msend_record_publish\u001b[49m\u001b[43m(\u001b[49m\u001b[43mrecord\u001b[49m\u001b[43m)\u001b[49m\n",
            "File \u001b[0;32m/opt/conda/lib/python3.10/site-packages/wandb/sdk/lib/sock_client.py:221\u001b[0m, in \u001b[0;36mSockClient.send_record_publish\u001b[0;34m(self, record)\u001b[0m\n\u001b[1;32m    219\u001b[0m server_req \u001b[38;5;241m=\u001b[39m spb\u001b[38;5;241m.\u001b[39mServerRequest()\n\u001b[1;32m    220\u001b[0m server_req\u001b[38;5;241m.\u001b[39mrecord_publish\u001b[38;5;241m.\u001b[39mCopyFrom(record)\n\u001b[0;32m--> 221\u001b[0m \u001b[38;5;28;43mself\u001b[39;49m\u001b[38;5;241;43m.\u001b[39;49m\u001b[43msend_server_request\u001b[49m\u001b[43m(\u001b[49m\u001b[43mserver_req\u001b[49m\u001b[43m)\u001b[49m\n",
            "File \u001b[0;32m/opt/conda/lib/python3.10/site-packages/wandb/sdk/lib/sock_client.py:155\u001b[0m, in \u001b[0;36mSockClient.send_server_request\u001b[0;34m(self, msg)\u001b[0m\n\u001b[1;32m    154\u001b[0m \u001b[38;5;28;01mdef\u001b[39;00m \u001b[38;5;21msend_server_request\u001b[39m(\u001b[38;5;28mself\u001b[39m, msg: Any) \u001b[38;5;241m-\u001b[39m\u001b[38;5;241m>\u001b[39m \u001b[38;5;28;01mNone\u001b[39;00m:\n\u001b[0;32m--> 155\u001b[0m     \u001b[38;5;28;43mself\u001b[39;49m\u001b[38;5;241;43m.\u001b[39;49m\u001b[43m_send_message\u001b[49m\u001b[43m(\u001b[49m\u001b[43mmsg\u001b[49m\u001b[43m)\u001b[49m\n",
            "File \u001b[0;32m/opt/conda/lib/python3.10/site-packages/wandb/sdk/lib/sock_client.py:152\u001b[0m, in \u001b[0;36mSockClient._send_message\u001b[0;34m(self, msg)\u001b[0m\n\u001b[1;32m    150\u001b[0m header \u001b[38;5;241m=\u001b[39m struct\u001b[38;5;241m.\u001b[39mpack(\u001b[38;5;124m\"\u001b[39m\u001b[38;5;124m<BI\u001b[39m\u001b[38;5;124m\"\u001b[39m, \u001b[38;5;28mord\u001b[39m(\u001b[38;5;124m\"\u001b[39m\u001b[38;5;124mW\u001b[39m\u001b[38;5;124m\"\u001b[39m), raw_size)\n\u001b[1;32m    151\u001b[0m \u001b[38;5;28;01mwith\u001b[39;00m \u001b[38;5;28mself\u001b[39m\u001b[38;5;241m.\u001b[39m_lock:\n\u001b[0;32m--> 152\u001b[0m     \u001b[38;5;28;43mself\u001b[39;49m\u001b[38;5;241;43m.\u001b[39;49m\u001b[43m_sendall_with_error_handle\u001b[49m\u001b[43m(\u001b[49m\u001b[43mheader\u001b[49m\u001b[43m \u001b[49m\u001b[38;5;241;43m+\u001b[39;49m\u001b[43m \u001b[49m\u001b[43mdata\u001b[49m\u001b[43m)\u001b[49m\n",
            "File \u001b[0;32m/opt/conda/lib/python3.10/site-packages/wandb/sdk/lib/sock_client.py:130\u001b[0m, in \u001b[0;36mSockClient._sendall_with_error_handle\u001b[0;34m(self, data)\u001b[0m\n\u001b[1;32m    128\u001b[0m start_time \u001b[38;5;241m=\u001b[39m time\u001b[38;5;241m.\u001b[39mmonotonic()\n\u001b[1;32m    129\u001b[0m \u001b[38;5;28;01mtry\u001b[39;00m:\n\u001b[0;32m--> 130\u001b[0m     sent \u001b[38;5;241m=\u001b[39m \u001b[38;5;28;43mself\u001b[39;49m\u001b[38;5;241;43m.\u001b[39;49m\u001b[43m_sock\u001b[49m\u001b[38;5;241;43m.\u001b[39;49m\u001b[43msend\u001b[49m\u001b[43m(\u001b[49m\u001b[43mdata\u001b[49m\u001b[43m)\u001b[49m\n\u001b[1;32m    131\u001b[0m     \u001b[38;5;66;03m# sent equal to 0 indicates a closed socket\u001b[39;00m\n\u001b[1;32m    132\u001b[0m     \u001b[38;5;28;01mif\u001b[39;00m sent \u001b[38;5;241m==\u001b[39m \u001b[38;5;241m0\u001b[39m:\n",
            "\u001b[0;31mBrokenPipeError\u001b[0m: [Errno 32] Broken pipe"
          ],
          "ename": "BrokenPipeError",
          "evalue": "[Errno 32] Broken pipe",
          "output_type": "error"
        }
      ]
    },
    {
      "cell_type": "markdown",
      "source": [
        "#Testing"
      ],
      "metadata": {
        "id": "AjnVZxHk77rN"
      }
    },
    {
      "cell_type": "code",
      "source": [
        "model=training(input_size_encoder ,256, 0.3, 'LSTM', 512, 1,   1,30,num_decoder_tokens,num_decoder_tokens,256,4)"
      ],
      "metadata": {
        "colab": {
          "base_uri": "https://localhost:8080/"
        },
        "id": "uMzhz3pU7hYa",
        "outputId": "9cdfb10e-db08-4d04-eafa-eb177827624f"
      },
      "execution_count": 29,
      "outputs": [
        {
          "output_type": "stream",
          "name": "stdout",
          "text": [
            "hello1\n",
            "hello2\n",
            "hello3\n",
            "hello\n",
            "[Epoch 0 / 30]\n"
          ]
        },
        {
          "output_type": "stream",
          "name": "stderr",
          "text": [
            "/usr/local/lib/python3.10/dist-packages/torch/nn/modules/rnn.py:71: UserWarning: dropout option adds dropout after all but last recurrent layer, so non-zero dropout expects num_layers greater than 1, but got dropout=0.3 and num_layers=1\n",
            "  warnings.warn(\"dropout option adds dropout after all but last \"\n"
          ]
        },
        {
          "output_type": "stream",
          "name": "stdout",
          "text": [
            "0.177734375\n",
            "[Epoch 1 / 30]\n",
            "0.251708984375\n",
            "[Epoch 2 / 30]\n",
            "0.24853515625\n",
            "[Epoch 3 / 30]\n",
            "0.28125\n",
            "[Epoch 4 / 30]\n",
            "0.3056640625\n",
            "[Epoch 5 / 30]\n",
            "0.30615234375\n",
            "[Epoch 6 / 30]\n",
            "0.330078125\n",
            "[Epoch 7 / 30]\n",
            "0.33447265625\n",
            "[Epoch 8 / 30]\n",
            "0.34619140625\n",
            "[Epoch 9 / 30]\n",
            "0.369140625\n",
            "[Epoch 10 / 30]\n",
            "0.372802734375\n",
            "[Epoch 11 / 30]\n",
            "0.373046875\n",
            "[Epoch 12 / 30]\n",
            "0.374267578125\n",
            "[Epoch 13 / 30]\n",
            "0.36376953125\n",
            "[Epoch 14 / 30]\n",
            "0.373291015625\n",
            "[Epoch 15 / 30]\n",
            "0.363037109375\n",
            "[Epoch 16 / 30]\n",
            "0.382568359375\n",
            "[Epoch 17 / 30]\n",
            "0.3701171875\n",
            "[Epoch 18 / 30]\n",
            "0.359130859375\n",
            "[Epoch 19 / 30]\n",
            "0.37841796875\n",
            "[Epoch 20 / 30]\n",
            "0.37646484375\n",
            "[Epoch 21 / 30]\n",
            "0.37939453125\n",
            "[Epoch 22 / 30]\n",
            "0.372314453125\n",
            "[Epoch 23 / 30]\n",
            "0.365234375\n",
            "[Epoch 24 / 30]\n",
            "0.379150390625\n",
            "[Epoch 25 / 30]\n",
            "0.375732421875\n",
            "[Epoch 26 / 30]\n",
            "0.38037109375\n",
            "[Epoch 27 / 30]\n",
            "0.385498046875\n",
            "[Epoch 28 / 30]\n",
            "0.380126953125\n",
            "[Epoch 29 / 30]\n",
            "0.373779296875\n"
          ]
        }
      ]
    },
    {
      "cell_type": "code",
      "source": [
        "model.eval()"
      ],
      "metadata": {
        "colab": {
          "base_uri": "https://localhost:8080/"
        },
        "id": "0DnVDmuy8j5O",
        "outputId": "56546761-d424-47ef-acf3-ce9e1c2c733d"
      },
      "execution_count": 30,
      "outputs": [
        {
          "output_type": "execute_result",
          "data": {
            "text/plain": [
              "Seq2SeqLSTM(\n",
              "  (encoder): EncoderLSTM(\n",
              "    (dropout): Dropout(p=0.3, inplace=False)\n",
              "    (embedding): Embedding(27, 256)\n",
              "    (rnn): LSTM(256, 512, dropout=0.3)\n",
              "  )\n",
              "  (decoder): DecoderLSTM(\n",
              "    (dropout): Dropout(p=0.3, inplace=False)\n",
              "    (embedding): Embedding(67, 256)\n",
              "    (attn): Linear(in_features=768, out_features=26, bias=True)\n",
              "    (attn_combine): Linear(in_features=768, out_features=512, bias=True)\n",
              "    (rnn): LSTM(512, 512)\n",
              "    (out): Linear(in_features=512, out_features=67, bias=True)\n",
              "  )\n",
              ")"
            ]
          },
          "metadata": {},
          "execution_count": 30
        }
      ]
    },
    {
      "cell_type": "code",
      "source": [
        "def write_list_to_file(string_list, file_path):\n",
        "    with open(file_path, \"a\") as file:\n",
        "        line = ' '.join(string_list)  # Join the strings with spaces\n",
        "        file.write(line + \"\\n\")  # Append a newline character at the end\n"
      ],
      "metadata": {
        "id": "jP9jANFp8q-a"
      },
      "execution_count": 31,
      "outputs": []
    },
    {
      "cell_type": "code",
      "source": [
        "def beam_searchLSTM(model, word, input_char_idx, output_char_idx, reverse_input_char_idx,\n",
        "                reverse_target_char_idx, max_encoder_seq_len, max_decoder_seq_len,\n",
        "                encoder_tok_numbers, decoder_tok_numbers, beam_width, device, length_penalty=0.6):\n",
        "\n",
        "    # Initialize the output word\n",
        "    word_t = ''\n",
        "\n",
        "    # Encode the input word\n",
        "    data = initialiser(max_encoder_seq_len)\n",
        "    for t, char in enumerate(word):\n",
        "        if char in input_char_index:\n",
        "            if t < data.shape[0]:\n",
        "                data[t, 0] = input_char_index[char]\n",
        "        else:\n",
        "            if t < data.shape[0]:\n",
        "                data[t, 0] = 69\n",
        "    \n",
        "    \n",
        "    mydata_type=torch.int64\n",
        "    data = torch.tensor(data, dtype=mydata_type).to(device)\n",
        "\n",
        "    \n",
        "    with torch.no_grad():\n",
        "        hidden, cell = model.encoder(data)\n",
        "\n",
        "    # Initialize beam\n",
        "    mychar=output_char_idx['\\t']\n",
        "    initial_sequence = torch.tensor(np.array(mychar).reshape(1,)).to(device)\n",
        "    initial_hidden=hidden.unsqueeze(0)\n",
        "    beam = [(0.0, initial_sequence,initial_hidden )]  # [(score, sequence, hidden)]\n",
        "\n",
        "    \n",
        "    time_step = 0\n",
        "    while time_step < max_decoder_seq_len:\n",
        "        candidates = []\n",
        "        idx = 0\n",
        "        while idx < len(beam):\n",
        "            score, seq, hidden = beam[idx]\n",
        "            last_token = seq[-1].item()\n",
        "            if last_token == output_char_idx['\\n']:\n",
        "                # If the sequence ends with the end token, add it to the candidates\n",
        "                candidates.append((score, seq, hidden))\n",
        "                idx += 1\n",
        "                continue\n",
        "\n",
        "            x = torch.tensor(np.array(last_token).reshape(1,)).to(device)\n",
        "            var=hidden.squeeze(0)\n",
        "            output, hidden, cell,attnweights = model.decoder(x, var , cell)\n",
        "            probabilities = F.softmax(output, dim=1)\n",
        "\n",
        "            # Get the top-k probabilities and tokens\n",
        "            topk_probs, topk_tokens = torch.topk(probabilities, k=beam_width)\n",
        "\n",
        "            j = 0\n",
        "            while j < len(topk_probs[0]):\n",
        "                prob, token = topk_probs[0][j], topk_tokens[0][j]\n",
        "                \n",
        "                var2=token.unsqueeze(0)\n",
        "                new_seq = torch.cat((seq,var2 ), dim=0)\n",
        "                \n",
        "                new_hidden = hidden.clone().unsqueeze(0)\n",
        "                \n",
        "                length_penalty_factor = ((len(new_seq) - 1) / 5) ** length_penalty  # Adjust penalty factor as needed\n",
        "                myitem=torch.log(prob).item()\n",
        "                candidates.append((score + myitem / length_penalty_factor, new_seq, new_hidden))\n",
        "                j += 1\n",
        "\n",
        "            idx += 1\n",
        "\n",
        "        # Select top-k candidates based on the accumulated scores\n",
        "        #beam = heapq.nlargest(beam_width, candidates, key=lambda x: x[0])\n",
        "        def get_score(item):\n",
        "            return item[0]\n",
        "\n",
        "        # Use heapq.nlargest to retrieve the top candidates based on score\n",
        "        beam = heapq.nlargest(beam_width, candidates, key=get_score)\n",
        "\n",
        "        time_step += 1\n",
        "\n",
        "    # Select the best sequence from the beam as the output\n",
        "    #best_score, best_sequence, tempvar = max(beam, key=lambda x: x[0])\n",
        "    \n",
        "    best_score = float('-inf')\n",
        "    best_sequence = None\n",
        "    tempvar = None\n",
        "    for item in beam:\n",
        "        score = item[0]\n",
        "        sequence = item[1]\n",
        "        if score > best_score:\n",
        "            best_score = score\n",
        "            best_sequence = sequence\n",
        "            tempvar = item[2]\n",
        "    \n",
        "    \n",
        "    translated_word = ''\n",
        "    for token in best_sequence[1:-1]:\n",
        "        translated_word += reverse_target_char_idx[token.item()]\n",
        "\n",
        "    return translated_word\n"
      ],
      "metadata": {
        "id": "16LYC9B58umC"
      },
      "execution_count": 32,
      "outputs": []
    },
    {
      "cell_type": "code",
      "source": [
        "total_words = len(test_X)\n",
        "correct_pred = 0\n",
        "model.eval()\n",
        "for i in range(total_words):\n",
        "\n",
        "    decoded_sentence = beam_searchLSTM(model,test_X[i], input_char_index, output_char_index, reverse_input_char_index, \n",
        "    reverse_target_char_index, max_encoder_seq_length, max_decoder_seq_length, \n",
        "    num_encoder_tokens, num_decoder_tokens,2,device)\n",
        "    str1= \"input sequence      \" + test_X[i]  + \"\\n\"\n",
        "    str2=  \"actual output       \"+test_Y[i]\n",
        "    str3= \"predicted output    \"+decoded_sentence+\"\\n\"\n",
        "    str=[str1,str2,str3]\n",
        "    if i<10:\n",
        "        print(str1,str2,str3)\n",
        "    write_list_to_file(str,\"/content/total.txt\")\n",
        "    if test_Y[i][1:-1]== decoded_sentence:\n",
        "        correct_pred += 1\n",
        "        write_list_to_file(str,\"/content/correct.txt\")\n",
        "    else :\n",
        "        write_list_to_file(str,\"/content/wrong.txt\")\n",
        "\n",
        "\n",
        "#print(decoded_sentence)\n",
        "#print('\\n')\n",
        "test_accuracy = correct_pred / total_words\n",
        "print(\"total number of words:\",total_words)\n",
        "print(\"correct number of words:\",correct_pred)\n",
        "print(\"Test Accuracy is :\",test_accuracy)\n",
        "\n",
        "print(test_accuracy)"
      ],
      "metadata": {
        "colab": {
          "base_uri": "https://localhost:8080/"
        },
        "id": "R7boUJVG81yF",
        "outputId": "bf7dd43e-68cf-4021-d892-c6b65328e70b"
      },
      "execution_count": 33,
      "outputs": [
        {
          "output_type": "stream",
          "name": "stdout",
          "text": [
            "input sequence      thermax\n",
            " actual output       \tथरमैक्स\n",
            " predicted output    थर्मक्स\n",
            "\n",
            "input sequence      sikhaaega\n",
            " actual output       \tसिखाएगा\n",
            " predicted output    सिखायगा\n",
            "\n",
            "input sequence      learn\n",
            " actual output       \tलर्न\n",
            " predicted output    लिर्न\n",
            "\n",
            "input sequence      twitters\n",
            " actual output       \tट्विटर्स\n",
            " predicted output    ट्विटर्स\n",
            "\n",
            "input sequence      tirunelveli\n",
            " actual output       \tतिरुनेलवेली\n",
            " predicted output    तिरूनेलवेली\n",
            "\n",
            "input sequence      independence\n",
            " actual output       \tइंडिपेंडेंस\n",
            " predicted output    इंडेपेंडंस\n",
            "\n",
            "input sequence      speshiyon\n",
            " actual output       \tस्पेशियों\n",
            " predicted output    स्पेशियों\n",
            "\n",
            "input sequence      shurooh\n",
            " actual output       \tशुरूः\n",
            " predicted output    शुरूह\n",
            "\n",
            "input sequence      kolhapur\n",
            " actual output       \tकोल्हापुर\n",
            " predicted output    कोल्हपूर\n",
            "\n",
            "input sequence      ajhar\n",
            " actual output       \tअजहर\n",
            " predicted output    अझर\n",
            "\n",
            "total number of words: 4096\n",
            "correct number of words: 1351\n",
            "Test Accuracy is : 0.329833984375\n",
            "0.329833984375\n"
          ]
        }
      ]
    },
    {
      "cell_type": "markdown",
      "source": [
        "#heatmap"
      ],
      "metadata": {
        "id": "_S4PWsPk-j5_"
      }
    },
    {
      "cell_type": "code",
      "source": [
        "def beam_searchLSTM(model, word, input_char_idx, output_char_idx, reverse_input_char_idx,\n",
        "                reverse_target_char_idx, max_encoder_seq_len, max_decoder_seq_len,\n",
        "                encoder_tok_numbers, decoder_tok_numbers, beam_width, device, length_penalty=0.6):\n",
        "\n",
        "    # Initialize the output word\n",
        "    word_t = ''\n",
        "    attention = []\n",
        "\n",
        "    # Encode the input word\n",
        "    data = initialiser(max_encoder_seq_len)\n",
        "    for t, char in enumerate(word):\n",
        "        if char in input_char_index:\n",
        "            if t < data.shape[0]:\n",
        "                data[t, 0] = input_char_index[char]\n",
        "        else:\n",
        "            if t < data.shape[0]:\n",
        "                data[t, 0] = 69\n",
        "    \n",
        "    \n",
        "    mydata_type=torch.int64\n",
        "    data = torch.tensor(data, dtype=mydata_type).to(device)\n",
        "\n",
        "    \n",
        "    with torch.no_grad():\n",
        "        hidden, cell = model.encoder(data)\n",
        "\n",
        "    # Initialize beam\n",
        "    mychar=output_char_idx['\\t']\n",
        "    initial_sequence = torch.tensor(np.array(mychar).reshape(1,)).to(device)\n",
        "    initial_hidden=hidden.unsqueeze(0)\n",
        "    beam = [(0.0, initial_sequence,initial_hidden )]  # [(score, sequence, hidden)]\n",
        "\n",
        "    \n",
        "    time_step = 0\n",
        "    while time_step < max_decoder_seq_len:\n",
        "        candidates = []\n",
        "        idx = 0\n",
        "        while idx < len(beam):\n",
        "            score, seq, hidden = beam[idx]\n",
        "            last_token = seq[-1].item()\n",
        "            if last_token == output_char_idx['\\n']:\n",
        "                # If the sequence ends with the end token, add it to the candidates\n",
        "                candidates.append((score, seq, hidden))\n",
        "                idx += 1\n",
        "                continue\n",
        "\n",
        "            x = torch.tensor(np.array(last_token).reshape(1,)).to(device)\n",
        "            var=hidden.squeeze(0)\n",
        "            output, hidden, cell,attnweights = model.decoder(x, var , cell)\n",
        "            attention.append(attnweights.detach().cpu().numpy())\n",
        "            probabilities = F.softmax(output, dim=1)\n",
        "\n",
        "            # Get the top-k probabilities and tokens\n",
        "            topk_probs, topk_tokens = torch.topk(probabilities, k=beam_width)\n",
        "\n",
        "            j = 0\n",
        "            while j < len(topk_probs[0]):\n",
        "                prob, token = topk_probs[0][j], topk_tokens[0][j]\n",
        "                \n",
        "                var2=token.unsqueeze(0)\n",
        "                new_seq = torch.cat((seq,var2 ), dim=0)\n",
        "                \n",
        "                new_hidden = hidden.clone().unsqueeze(0)\n",
        "                \n",
        "                length_penalty_factor = ((len(new_seq) - 1) / 5) ** length_penalty  # Adjust penalty factor as needed\n",
        "                myitem=torch.log(prob).item()\n",
        "                candidates.append((score + myitem / length_penalty_factor, new_seq, new_hidden))\n",
        "                j += 1\n",
        "\n",
        "            idx += 1\n",
        "\n",
        "        # Select top-k candidates based on the accumulated scores\n",
        "        #beam = heapq.nlargest(beam_width, candidates, key=lambda x: x[0])\n",
        "        def get_score(item):\n",
        "            return item[0]\n",
        "\n",
        "        # Use heapq.nlargest to retrieve the top candidates based on score\n",
        "        beam = heapq.nlargest(beam_width, candidates, key=get_score)\n",
        "\n",
        "        time_step += 1\n",
        "\n",
        "    # Select the best sequence from the beam as the output\n",
        "    #best_score, best_sequence, tempvar = max(beam, key=lambda x: x[0])\n",
        "    \n",
        "    best_score = float('-inf')\n",
        "    best_sequence = None\n",
        "    tempvar = None\n",
        "    for item in beam:\n",
        "        score = item[0]\n",
        "        sequence = item[1]\n",
        "        if score > best_score:\n",
        "            best_score = score\n",
        "            best_sequence = sequence\n",
        "            tempvar = item[2]\n",
        "    \n",
        "    \n",
        "    translated_word = ''\n",
        "    for token in best_sequence[1:-1]:\n",
        "        translated_word += reverse_target_char_idx[token.item()]\n",
        "\n",
        "    return translated_word,attention\n"
      ],
      "metadata": {
        "id": "htk9dW3lpaEG"
      },
      "execution_count": null,
      "outputs": []
    },
    {
      "cell_type": "code",
      "source": [
        "import matplotlib.pyplot as plt\n",
        "import numpy as np\n",
        "from matplotlib.font_manager import FontProperties\n"
      ],
      "metadata": {
        "id": "Pv82cUXR_WRL"
      },
      "execution_count": 54,
      "outputs": []
    },
    {
      "cell_type": "code",
      "source": [
        "!pip install --upgrade fonttools\n"
      ],
      "metadata": {
        "colab": {
          "base_uri": "https://localhost:8080/"
        },
        "id": "lGCy-ATh_aT3",
        "outputId": "e10f166c-7f42-4f1b-f761-9413e2eae144"
      },
      "execution_count": 55,
      "outputs": [
        {
          "output_type": "stream",
          "name": "stdout",
          "text": [
            "Looking in indexes: https://pypi.org/simple, https://us-python.pkg.dev/colab-wheels/public/simple/\n",
            "Requirement already satisfied: fonttools in /usr/local/lib/python3.10/dist-packages (4.39.4)\n"
          ]
        }
      ]
    },
    {
      "cell_type": "code",
      "source": [
        "from fontTools.ttLib import TTFont, TTCollection"
      ],
      "metadata": {
        "id": "p8lsCQ2tQC3r"
      },
      "execution_count": 58,
      "outputs": []
    },
    {
      "cell_type": "code",
      "source": [
        "import matplotlib.pyplot as plt\n",
        "from matplotlib.font_manager import FontProperties\n",
        "import matplotlib.ticker as ticker\n",
        "\n",
        "def plot_attention(attention, sentence, predicted_sentence, seq_index, word, word_t):\n",
        "    fig = plt.figure(figsize=(10, 10))\n",
        "    ax = fig.add_subplot(4, 3, seq_index)\n",
        "    cax = ax.matshow(attention, vmin=0, vmax=1)\n",
        "\n",
        "    font_prop_x = FontProperties(size=18)\n",
        "    font_prop_y = FontProperties(fname=\"/content/Lohit-Devanagari.ttf\", size=20)\n",
        "\n",
        "    ax.set_xticklabels([''] + sentence, fontproperties=font_prop_x)\n",
        "    ax.set_yticklabels([''] + predicted_sentence, fontproperties=font_prop_y)\n",
        "\n",
        "    ax.xaxis.set_major_locator(ticker.MultipleLocator(1))\n",
        "    ax.yaxis.set_major_locator(ticker.MultipleLocator(1))\n",
        "\n",
        "    fig.colorbar(cax)\n",
        "\n",
        "    plt.show()\n"
      ],
      "metadata": {
        "id": "DlFe7XEL_hxT"
      },
      "execution_count": 59,
      "outputs": []
    },
    {
      "cell_type": "code",
      "source": [
        "def plot_heatmap(model, word, input_char_index, output_char_index, reverse_input_char_index, reverse_target_char_index, \n",
        "                 max_encoder_seq_length, max_decoder_seq_length, num_encoder_tokens, num_decoder_tokens, device, fig, seq_index):\n",
        "    \n",
        "    word_t, at = beam_searchLSTM(model,val_X[seq_index], input_char_index, output_char_index, reverse_input_char_index, \n",
        "                      reverse_target_char_index, max_encoder_seq_length, max_decoder_seq_length, \n",
        "                      num_encoder_tokens, num_decoder_tokens,1,device)\n",
        "    attention = []\n",
        "    for i in at:\n",
        "        attention.append(i.reshape(26,))\n",
        "    attention = np.array(attention)\n",
        "    inp_set = []\n",
        "    out_set = []\n",
        "    for i in word:\n",
        "        inp_set.append(i)\n",
        "    for i in word_t:\n",
        "        out_set.append(i)\n",
        "        \n",
        "#     print('Input : ' + word)\n",
        "#     print('Output : ' + word_t)    \n",
        "    plot_attention(attention[0:len(word_t),0:len(word)], inp_set, out_set, fig, seq_index, word, word_t)"
      ],
      "metadata": {
        "id": "aeYmeEsD_pqm"
      },
      "execution_count": 72,
      "outputs": []
    },
    {
      "cell_type": "code",
      "source": [
        "!pip install colorama"
      ],
      "metadata": {
        "colab": {
          "base_uri": "https://localhost:8080/"
        },
        "id": "rzkSFhdeRteZ",
        "outputId": "69f430f5-cf0b-4f21-f119-d4e2c7da9e12"
      },
      "execution_count": 64,
      "outputs": [
        {
          "output_type": "stream",
          "name": "stdout",
          "text": [
            "Looking in indexes: https://pypi.org/simple, https://us-python.pkg.dev/colab-wheels/public/simple/\n",
            "Collecting colorama\n",
            "  Downloading colorama-0.4.6-py2.py3-none-any.whl (25 kB)\n",
            "Installing collected packages: colorama\n",
            "Successfully installed colorama-0.4.6\n"
          ]
        }
      ]
    },
    {
      "cell_type": "code",
      "source": [
        "from matplotlib.font_manager import FontProperties\n",
        "np.random.seed(10)\n",
        "fig = plt.figure(figsize=(30, 30))\n",
        "for i in range(10):\n",
        "    seq_index = np.random.randint(len(test_X))\n",
        "    input_seq = test_X[seq_index]\n",
        "    plot_heatmap(model, input_seq, input_char_index, output_char_index, reverse_input_char_index, \n",
        "              reverse_target_char_index, max_encoder_seq_length, max_decoder_seq_length, \n",
        "              num_encoder_tokens, num_decoder_tokens, device, fig, i+1)\n",
        "    \n",
        "    # visualize(model, input_seq, input_char_index, output_char_index, reverse_input_char_index, \n",
        "    #           reverse_target_char_index, max_encoder_seq_length, max_decoder_seq_length, \n",
        "    #           num_encoder_tokens, num_decoder_tokens, device)\n",
        "    \n",
        "    print(\"\\n\")"
      ],
      "metadata": {
        "colab": {
          "base_uri": "https://localhost:8080/",
          "height": 1000
        },
        "id": "UU73MTrY_-i1",
        "outputId": "d028b5b0-9f4d-4bcc-ad28-e140e52cd22a"
      },
      "execution_count": 73,
      "outputs": [
        {
          "output_type": "stream",
          "name": "stderr",
          "text": [
            "<ipython-input-59-e2edab94f08a>:10: UserWarning: FixedFormatter should only be used together with FixedLocator\n",
            "  ax.set_xticklabels([''] + sentence,  fontproperties=font_prop_x)\n",
            "<ipython-input-59-e2edab94f08a>:11: UserWarning: FixedFormatter should only be used together with FixedLocator\n",
            "  ax.set_yticklabels([''] + predicted_sentence, fontproperties=font_prop_y)\n"
          ]
        },
        {
          "output_type": "stream",
          "name": "stdout",
          "text": [
            "\n",
            "\n",
            "\n",
            "\n",
            "\n",
            "\n",
            "\n",
            "\n",
            "\n",
            "\n",
            "\n",
            "\n",
            "\n",
            "\n",
            "\n",
            "\n",
            "\n",
            "\n",
            "\n",
            "\n"
          ]
        },
        {
          "output_type": "display_data",
          "data": {
            "text/plain": [
              "<Figure size 3000x3000 with 20 Axes>"
            ],
            "image/png": "[encoded data removed]"
          },
          "metadata": {}
        }
      ]
    },
    {
      "cell_type": "code",
      "source": [],
      "metadata": {
        "id": "MUQle91YNhk2"
      },
      "execution_count": null,
      "outputs": []
    }
  ]
}